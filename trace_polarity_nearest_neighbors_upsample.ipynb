{
 "cells": [
  {
   "cell_type": "markdown",
   "metadata": {},
   "source": [
    "# knn approach to finding traces with flipped polarity in seismic data"
   ]
  },
  {
   "cell_type": "markdown",
   "metadata": {},
   "source": [
    "We use ML to classify the polarity $(\\pm 1)$ of seismic traces. Each trace corresponds to a hydrophone which listens for sound wave reflecting from the geology in the subsurface of the Earth. The sound waves have \"shots\" as their sources. These shots are denotations set off above the ground.\n",
    "\n",
    "Sometimes the channel arrays have geophones which are recording data with a phase inversion of -1. That is, they record -f(t) when they should be recording f(t). To process seismic data into a tomographic image, these flipped polarity traces need to be identified.\n",
    "\n",
    "This open source seismic data comes with channels that have this error. We use a nearest-neighbors algorithm to catalog them."
   ]
  },
  {
   "cell_type": "code",
   "execution_count": 2,
   "metadata": {},
   "outputs": [],
   "source": [
    "%matplotlib inline\n",
    "import matplotlib.pyplot as plt\n",
    "from matplotlib.colors import ListedColormap\n",
    "\n",
    "\n",
    "import pandas as pd, numpy as np\n",
    "from sklearn.model_selection import train_test_split\n",
    "\n",
    "from sklearn.preprocessing import Normalizer\n",
    "from sklearn.neighbors import KNeighborsClassifier\n",
    "from sklearn.model_selection import cross_val_score"
   ]
  },
  {
   "cell_type": "code",
   "execution_count": 3,
   "metadata": {},
   "outputs": [],
   "source": [
    "raw_data = pd.read_csv('seismic_traces.txt',header=None,skiprows=[0])"
   ]
  },
  {
   "cell_type": "markdown",
   "metadata": {},
   "source": [
    "The data is being read as series:"
   ]
  },
  {
   "cell_type": "code",
   "execution_count": 4,
   "metadata": {},
   "outputs": [
    {
     "data": {
      "text/plain": [
       "(5391360, 1)"
      ]
     },
     "execution_count": 4,
     "metadata": {},
     "output_type": "execute_result"
    }
   ],
   "source": [
    "raw_data.shape"
   ]
  },
  {
   "cell_type": "markdown",
   "metadata": {},
   "source": [
    "But each datapoint is made up of 51 attributes and a target label $(\\pm 1)$, so we need to reorganize:"
   ]
  },
  {
   "cell_type": "code",
   "execution_count": 5,
   "metadata": {},
   "outputs": [
    {
     "data": {
      "text/html": [
       "<div>\n",
       "<style scoped>\n",
       "    .dataframe tbody tr th:only-of-type {\n",
       "        vertical-align: middle;\n",
       "    }\n",
       "\n",
       "    .dataframe tbody tr th {\n",
       "        vertical-align: top;\n",
       "    }\n",
       "\n",
       "    .dataframe thead th {\n",
       "        text-align: right;\n",
       "    }\n",
       "</style>\n",
       "<table border=\"1\" class=\"dataframe\">\n",
       "  <thead>\n",
       "    <tr style=\"text-align: right;\">\n",
       "      <th></th>\n",
       "      <th>0</th>\n",
       "    </tr>\n",
       "  </thead>\n",
       "  <tbody>\n",
       "    <tr>\n",
       "      <th>0</th>\n",
       "      <td>channel=1 shot=2372 label=-1</td>\n",
       "    </tr>\n",
       "    <tr>\n",
       "      <th>1</th>\n",
       "      <td>0  1.35109469e-01</td>\n",
       "    </tr>\n",
       "    <tr>\n",
       "      <th>2</th>\n",
       "      <td>1 -1.49369106e-01</td>\n",
       "    </tr>\n",
       "    <tr>\n",
       "      <th>3</th>\n",
       "      <td>2  1.57715330e+01</td>\n",
       "    </tr>\n",
       "    <tr>\n",
       "      <th>4</th>\n",
       "      <td>3  1.42361059e+01</td>\n",
       "    </tr>\n",
       "  </tbody>\n",
       "</table>\n",
       "</div>"
      ],
      "text/plain": [
       "                               0\n",
       "0   channel=1 shot=2372 label=-1\n",
       "1              0  1.35109469e-01\n",
       "2              1 -1.49369106e-01\n",
       "3              2  1.57715330e+01\n",
       "4              3  1.42361059e+01"
      ]
     },
     "execution_count": 5,
     "metadata": {},
     "output_type": "execute_result"
    }
   ],
   "source": [
    "raw_data.head(5)"
   ]
  },
  {
   "cell_type": "code",
   "execution_count": 6,
   "metadata": {},
   "outputs": [],
   "source": [
    "def series_to_dataframe(series,length,sample):\n",
    "    #function to convert series to dataframe such that entries\n",
    "    #within [sample_i,sample_(i+52), i % sample = 0, are mapped to a column\n",
    "    #length = total entries from series to be mapped to the dataframe\n",
    "    \n",
    "    df = pd.DataFrame(index=range(0,sample+1))\n",
    "\n",
    "    for x in range(0,int(length),sample): #for production len(df), or len(df)/2\n",
    "        df[x] = pd.Series(series.iloc[x:x+53,0].reset_index()[0])\n",
    "       \n",
    "    return df"
   ]
  },
  {
   "cell_type": "code",
   "execution_count": 7,
   "metadata": {},
   "outputs": [
    {
     "data": {
      "text/html": [
       "<div>\n",
       "<style scoped>\n",
       "    .dataframe tbody tr th:only-of-type {\n",
       "        vertical-align: middle;\n",
       "    }\n",
       "\n",
       "    .dataframe tbody tr th {\n",
       "        vertical-align: top;\n",
       "    }\n",
       "\n",
       "    .dataframe thead th {\n",
       "        text-align: right;\n",
       "    }\n",
       "</style>\n",
       "<table border=\"1\" class=\"dataframe\">\n",
       "  <thead>\n",
       "    <tr style=\"text-align: right;\">\n",
       "      <th></th>\n",
       "      <th>0</th>\n",
       "      <th>52</th>\n",
       "      <th>104</th>\n",
       "      <th>156</th>\n",
       "      <th>208</th>\n",
       "      <th>260</th>\n",
       "      <th>312</th>\n",
       "      <th>364</th>\n",
       "      <th>416</th>\n",
       "      <th>468</th>\n",
       "      <th>...</th>\n",
       "      <th>2695160</th>\n",
       "      <th>2695212</th>\n",
       "      <th>2695264</th>\n",
       "      <th>2695316</th>\n",
       "      <th>2695368</th>\n",
       "      <th>2695420</th>\n",
       "      <th>2695472</th>\n",
       "      <th>2695524</th>\n",
       "      <th>2695576</th>\n",
       "      <th>2695628</th>\n",
       "    </tr>\n",
       "  </thead>\n",
       "  <tbody>\n",
       "    <tr>\n",
       "      <th>0</th>\n",
       "      <td>channel=1 shot=2372 label=-1</td>\n",
       "      <td>channel=9 shot=2372 label=1</td>\n",
       "      <td>channel=17 shot=2372 label=1</td>\n",
       "      <td>channel=25 shot=2372 label=1</td>\n",
       "      <td>channel=33 shot=2372 label=1</td>\n",
       "      <td>channel=41 shot=2372 label=-1</td>\n",
       "      <td>channel=49 shot=2372 label=1</td>\n",
       "      <td>channel=57 shot=2372 label=1</td>\n",
       "      <td>channel=65 shot=2372 label=1</td>\n",
       "      <td>channel=73 shot=2372 label=1</td>\n",
       "      <td>...</td>\n",
       "      <td>channel=2225 shot=6668 label=1</td>\n",
       "      <td>channel=2233 shot=6668 label=1</td>\n",
       "      <td>channel=2241 shot=6668 label=-1</td>\n",
       "      <td>channel=2249 shot=6668 label=1</td>\n",
       "      <td>channel=2257 shot=6668 label=1</td>\n",
       "      <td>channel=2265 shot=6668 label=1</td>\n",
       "      <td>channel=2273 shot=6668 label=1</td>\n",
       "      <td>channel=2281 shot=6668 label=-1</td>\n",
       "      <td>channel=2289 shot=6668 label=1</td>\n",
       "      <td>channel=2297 shot=6668 label=1</td>\n",
       "    </tr>\n",
       "    <tr>\n",
       "      <th>1</th>\n",
       "      <td>0  1.35109469e-01</td>\n",
       "      <td>0  1.45933300e-01</td>\n",
       "      <td>0 -6.92833722e-01</td>\n",
       "      <td>0 -5.48514366e-01</td>\n",
       "      <td>0 -5.12570068e-02</td>\n",
       "      <td>0 -8.86980057e-01</td>\n",
       "      <td>0 -1.76063627e-01</td>\n",
       "      <td>0  2.22643271e-01</td>\n",
       "      <td>0  1.17118979e+00</td>\n",
       "      <td>0  5.71239889e-01</td>\n",
       "      <td>...</td>\n",
       "      <td>0 -5.05644798e+01</td>\n",
       "      <td>0 -5.35335121e+01</td>\n",
       "      <td>0  5.16573334e+01</td>\n",
       "      <td>0 -6.36245384e+01</td>\n",
       "      <td>0 -6.22858963e+01</td>\n",
       "      <td>0 -6.69708176e+01</td>\n",
       "      <td>0 -6.17421837e+01</td>\n",
       "      <td>0  4.24557686e+01</td>\n",
       "      <td>0 -3.49117241e+01</td>\n",
       "      <td>0 -3.27148094e+01</td>\n",
       "    </tr>\n",
       "    <tr>\n",
       "      <th>2</th>\n",
       "      <td>1 -1.49369106e-01</td>\n",
       "      <td>1  1.75313914e+00</td>\n",
       "      <td>1  1.99631679e+00</td>\n",
       "      <td>1  3.04945016e+00</td>\n",
       "      <td>1  2.88342237e+00</td>\n",
       "      <td>1 -1.33383894e+00</td>\n",
       "      <td>1  1.71477425e+00</td>\n",
       "      <td>1  1.66236949e+00</td>\n",
       "      <td>1  2.14069176e+00</td>\n",
       "      <td>1  1.45541644e+00</td>\n",
       "      <td>...</td>\n",
       "      <td>1 -2.43941898e+01</td>\n",
       "      <td>1 -2.50681992e+01</td>\n",
       "      <td>1  1.98644161e+01</td>\n",
       "      <td>1 -2.24622288e+01</td>\n",
       "      <td>1 -1.41626024e+01</td>\n",
       "      <td>1 -1.40747652e+01</td>\n",
       "      <td>1 -7.30249357e+00</td>\n",
       "      <td>1  1.30712271e+01</td>\n",
       "      <td>1 -8.87607956e+00</td>\n",
       "      <td>1 -1.96998653e+01</td>\n",
       "    </tr>\n",
       "    <tr>\n",
       "      <th>3</th>\n",
       "      <td>2  1.57715330e+01</td>\n",
       "      <td>2 -1.49585085e+01</td>\n",
       "      <td>2 -2.35901699e+01</td>\n",
       "      <td>2 -2.49880772e+01</td>\n",
       "      <td>2 -3.32448540e+01</td>\n",
       "      <td>2  2.98935757e+01</td>\n",
       "      <td>2 -3.22538071e+01</td>\n",
       "      <td>2 -2.51346836e+01</td>\n",
       "      <td>2 -1.51347399e+01</td>\n",
       "      <td>2 -5.07944202e+00</td>\n",
       "      <td>...</td>\n",
       "      <td>2 -2.13396549e+01</td>\n",
       "      <td>2 -1.86809387e+01</td>\n",
       "      <td>2  2.29194832e+01</td>\n",
       "      <td>2 -1.65655098e+01</td>\n",
       "      <td>2 -2.28135605e+01</td>\n",
       "      <td>2 -2.79594479e+01</td>\n",
       "      <td>2 -2.25943642e+01</td>\n",
       "      <td>2  3.03915577e+01</td>\n",
       "      <td>2 -2.37743130e+01</td>\n",
       "      <td>2 -2.82103367e+01</td>\n",
       "    </tr>\n",
       "    <tr>\n",
       "      <th>4</th>\n",
       "      <td>3  1.42361059e+01</td>\n",
       "      <td>3 -1.81383457e+01</td>\n",
       "      <td>3 -1.35441465e+01</td>\n",
       "      <td>3 -7.66792870e+00</td>\n",
       "      <td>3 -1.11441040e+01</td>\n",
       "      <td>3  1.45502367e+01</td>\n",
       "      <td>3 -1.61157742e+01</td>\n",
       "      <td>3 -1.30265388e+01</td>\n",
       "      <td>3 -2.11821022e+01</td>\n",
       "      <td>3 -3.24019890e+01</td>\n",
       "      <td>...</td>\n",
       "      <td>3 -1.31772375e+01</td>\n",
       "      <td>3 -7.91394949e+00</td>\n",
       "      <td>3  2.81915817e+01</td>\n",
       "      <td>3 -2.24558468e+01</td>\n",
       "      <td>3 -3.33276749e+01</td>\n",
       "      <td>3 -3.37345467e+01</td>\n",
       "      <td>3 -2.52948914e+01</td>\n",
       "      <td>3  2.34377728e+01</td>\n",
       "      <td>3 -1.42750978e+01</td>\n",
       "      <td>3 -7.85312891e+00</td>\n",
       "    </tr>\n",
       "  </tbody>\n",
       "</table>\n",
       "<p>5 rows × 51840 columns</p>\n",
       "</div>"
      ],
      "text/plain": [
       "                         0                             52       \\\n",
       "0   channel=1 shot=2372 label=-1   channel=9 shot=2372 label=1   \n",
       "1              0  1.35109469e-01             0  1.45933300e-01   \n",
       "2              1 -1.49369106e-01             1  1.75313914e+00   \n",
       "3              2  1.57715330e+01             2 -1.49585085e+01   \n",
       "4              3  1.42361059e+01             3 -1.81383457e+01   \n",
       "\n",
       "                         104                            156      \\\n",
       "0   channel=17 shot=2372 label=1   channel=25 shot=2372 label=1   \n",
       "1              0 -6.92833722e-01              0 -5.48514366e-01   \n",
       "2              1  1.99631679e+00              1  3.04945016e+00   \n",
       "3              2 -2.35901699e+01              2 -2.49880772e+01   \n",
       "4              3 -1.35441465e+01              3 -7.66792870e+00   \n",
       "\n",
       "                         208                             260      \\\n",
       "0   channel=33 shot=2372 label=1   channel=41 shot=2372 label=-1   \n",
       "1              0 -5.12570068e-02               0 -8.86980057e-01   \n",
       "2              1  2.88342237e+00               1 -1.33383894e+00   \n",
       "3              2 -3.32448540e+01               2  2.98935757e+01   \n",
       "4              3 -1.11441040e+01               3  1.45502367e+01   \n",
       "\n",
       "                         312                            364      \\\n",
       "0   channel=49 shot=2372 label=1   channel=57 shot=2372 label=1   \n",
       "1              0 -1.76063627e-01              0  2.22643271e-01   \n",
       "2              1  1.71477425e+00              1  1.66236949e+00   \n",
       "3              2 -3.22538071e+01              2 -2.51346836e+01   \n",
       "4              3 -1.61157742e+01              3 -1.30265388e+01   \n",
       "\n",
       "                         416                            468      ...  \\\n",
       "0   channel=65 shot=2372 label=1   channel=73 shot=2372 label=1  ...   \n",
       "1              0  1.17118979e+00              0  5.71239889e-01  ...   \n",
       "2              1  2.14069176e+00              1  1.45541644e+00  ...   \n",
       "3              2 -1.51347399e+01              2 -5.07944202e+00  ...   \n",
       "4              3 -2.11821022e+01              3 -3.24019890e+01  ...   \n",
       "\n",
       "                           2695160                          2695212  \\\n",
       "0   channel=2225 shot=6668 label=1   channel=2233 shot=6668 label=1   \n",
       "1                0 -5.05644798e+01                0 -5.35335121e+01   \n",
       "2                1 -2.43941898e+01                1 -2.50681992e+01   \n",
       "3                2 -2.13396549e+01                2 -1.86809387e+01   \n",
       "4                3 -1.31772375e+01                3 -7.91394949e+00   \n",
       "\n",
       "                            2695264                          2695316  \\\n",
       "0   channel=2241 shot=6668 label=-1   channel=2249 shot=6668 label=1   \n",
       "1                 0  5.16573334e+01                0 -6.36245384e+01   \n",
       "2                 1  1.98644161e+01                1 -2.24622288e+01   \n",
       "3                 2  2.29194832e+01                2 -1.65655098e+01   \n",
       "4                 3  2.81915817e+01                3 -2.24558468e+01   \n",
       "\n",
       "                           2695368                          2695420  \\\n",
       "0   channel=2257 shot=6668 label=1   channel=2265 shot=6668 label=1   \n",
       "1                0 -6.22858963e+01                0 -6.69708176e+01   \n",
       "2                1 -1.41626024e+01                1 -1.40747652e+01   \n",
       "3                2 -2.28135605e+01                2 -2.79594479e+01   \n",
       "4                3 -3.33276749e+01                3 -3.37345467e+01   \n",
       "\n",
       "                           2695472                           2695524  \\\n",
       "0   channel=2273 shot=6668 label=1   channel=2281 shot=6668 label=-1   \n",
       "1                0 -6.17421837e+01                 0  4.24557686e+01   \n",
       "2                1 -7.30249357e+00                 1  1.30712271e+01   \n",
       "3                2 -2.25943642e+01                 2  3.03915577e+01   \n",
       "4                3 -2.52948914e+01                 3  2.34377728e+01   \n",
       "\n",
       "                           2695576                          2695628  \n",
       "0   channel=2289 shot=6668 label=1   channel=2297 shot=6668 label=1  \n",
       "1                0 -3.49117241e+01                0 -3.27148094e+01  \n",
       "2                1 -8.87607956e+00                1 -1.96998653e+01  \n",
       "3                2 -2.37743130e+01                2 -2.82103367e+01  \n",
       "4                3 -1.42750978e+01                3 -7.85312891e+00  \n",
       "\n",
       "[5 rows x 51840 columns]"
      ]
     },
     "execution_count": 7,
     "metadata": {},
     "output_type": "execute_result"
    }
   ],
   "source": [
    "traces_df = series_to_dataframe(raw_data, len(raw_data)/2, 52)\n",
    "\n",
    "traces_df.head()"
   ]
  },
  {
   "cell_type": "code",
   "execution_count": 8,
   "metadata": {},
   "outputs": [],
   "source": [
    "def select_amplitude(x):\n",
    "    #function to select the amplitude value from each cell:\n",
    "    # '2 -2.35901699e+01'  ---> '-2.35901699e+01'\n",
    "    \n",
    "    ls = x.split()\n",
    "    return ls[len(ls)-1]\n",
    "\n",
    "def pickSign(str):      \n",
    "    # function to pick send 'gut=-1' ---> -1, 'gut=1' ---> 1\n",
    "    \n",
    "    if str[-2:-1]=='-':\n",
    "        return -1\n",
    "    else:\n",
    "        return 1"
   ]
  },
  {
   "cell_type": "code",
   "execution_count": 22,
   "metadata": {},
   "outputs": [],
   "source": [
    "#Select amplitude value from each cell. \n",
    "#Transpose so that the samples of the traces become attributes\n",
    "data_df = traces_df.applymap(select_amplitude).transpose()\n",
    "\n",
    "#Create integer target label\n",
    "data_df['Polarity']= data_df[0].apply(pickSign)\n",
    "data_df = data_df.drop(labels=[0,52],axis=1)\n",
    "data_df = data_df.astype('float')"
   ]
  },
  {
   "cell_type": "markdown",
   "metadata": {},
   "source": [
    "**Now we have the data in the shape that we want. Every row corresponds to a data point, with the entries being the samples of the recorded sound waves. The last column contains the polarity label.**"
   ]
  },
  {
   "cell_type": "code",
   "execution_count": 23,
   "metadata": {},
   "outputs": [
    {
     "data": {
      "text/html": [
       "<div>\n",
       "<style scoped>\n",
       "    .dataframe tbody tr th:only-of-type {\n",
       "        vertical-align: middle;\n",
       "    }\n",
       "\n",
       "    .dataframe tbody tr th {\n",
       "        vertical-align: top;\n",
       "    }\n",
       "\n",
       "    .dataframe thead th {\n",
       "        text-align: right;\n",
       "    }\n",
       "</style>\n",
       "<table border=\"1\" class=\"dataframe\">\n",
       "  <thead>\n",
       "    <tr style=\"text-align: right;\">\n",
       "      <th></th>\n",
       "      <th>1</th>\n",
       "      <th>2</th>\n",
       "      <th>3</th>\n",
       "      <th>4</th>\n",
       "      <th>5</th>\n",
       "      <th>6</th>\n",
       "      <th>7</th>\n",
       "      <th>8</th>\n",
       "      <th>9</th>\n",
       "      <th>10</th>\n",
       "      <th>...</th>\n",
       "      <th>43</th>\n",
       "      <th>44</th>\n",
       "      <th>45</th>\n",
       "      <th>46</th>\n",
       "      <th>47</th>\n",
       "      <th>48</th>\n",
       "      <th>49</th>\n",
       "      <th>50</th>\n",
       "      <th>51</th>\n",
       "      <th>Polarity</th>\n",
       "    </tr>\n",
       "  </thead>\n",
       "  <tbody>\n",
       "    <tr>\n",
       "      <th>0</th>\n",
       "      <td>0.135109</td>\n",
       "      <td>-0.149369</td>\n",
       "      <td>15.771533</td>\n",
       "      <td>14.236106</td>\n",
       "      <td>-35.925736</td>\n",
       "      <td>26.909462</td>\n",
       "      <td>-15.012988</td>\n",
       "      <td>1.725460</td>\n",
       "      <td>7.095699</td>\n",
       "      <td>1.463356</td>\n",
       "      <td>...</td>\n",
       "      <td>3.210323</td>\n",
       "      <td>-6.106526</td>\n",
       "      <td>-6.634347</td>\n",
       "      <td>7.872420</td>\n",
       "      <td>6.820869</td>\n",
       "      <td>-4.395456</td>\n",
       "      <td>7.422894</td>\n",
       "      <td>17.544140</td>\n",
       "      <td>3.223560</td>\n",
       "      <td>-1.0</td>\n",
       "    </tr>\n",
       "    <tr>\n",
       "      <th>52</th>\n",
       "      <td>0.145933</td>\n",
       "      <td>1.753139</td>\n",
       "      <td>-14.958509</td>\n",
       "      <td>-18.138346</td>\n",
       "      <td>24.836264</td>\n",
       "      <td>-1.771277</td>\n",
       "      <td>6.107979</td>\n",
       "      <td>0.650433</td>\n",
       "      <td>12.429290</td>\n",
       "      <td>-20.766388</td>\n",
       "      <td>...</td>\n",
       "      <td>-6.895596</td>\n",
       "      <td>-2.262812</td>\n",
       "      <td>0.867932</td>\n",
       "      <td>6.583002</td>\n",
       "      <td>-2.523254</td>\n",
       "      <td>1.952146</td>\n",
       "      <td>-1.058738</td>\n",
       "      <td>0.687788</td>\n",
       "      <td>5.562509</td>\n",
       "      <td>1.0</td>\n",
       "    </tr>\n",
       "    <tr>\n",
       "      <th>104</th>\n",
       "      <td>-0.692834</td>\n",
       "      <td>1.996317</td>\n",
       "      <td>-23.590170</td>\n",
       "      <td>-13.544147</td>\n",
       "      <td>16.388670</td>\n",
       "      <td>-2.811234</td>\n",
       "      <td>0.292026</td>\n",
       "      <td>19.967159</td>\n",
       "      <td>18.820869</td>\n",
       "      <td>-14.062235</td>\n",
       "      <td>...</td>\n",
       "      <td>5.066412</td>\n",
       "      <td>-4.839576</td>\n",
       "      <td>-7.733660</td>\n",
       "      <td>3.416450</td>\n",
       "      <td>-2.488747</td>\n",
       "      <td>-0.623854</td>\n",
       "      <td>-5.784183</td>\n",
       "      <td>-1.940175</td>\n",
       "      <td>3.148644</td>\n",
       "      <td>1.0</td>\n",
       "    </tr>\n",
       "    <tr>\n",
       "      <th>156</th>\n",
       "      <td>-0.548514</td>\n",
       "      <td>3.049450</td>\n",
       "      <td>-24.988077</td>\n",
       "      <td>-7.667929</td>\n",
       "      <td>17.888163</td>\n",
       "      <td>-11.045793</td>\n",
       "      <td>9.761217</td>\n",
       "      <td>11.444410</td>\n",
       "      <td>4.486601</td>\n",
       "      <td>-8.396764</td>\n",
       "      <td>...</td>\n",
       "      <td>8.914586</td>\n",
       "      <td>4.633519</td>\n",
       "      <td>-0.462167</td>\n",
       "      <td>-4.352639</td>\n",
       "      <td>-6.807166</td>\n",
       "      <td>4.047869</td>\n",
       "      <td>5.908732</td>\n",
       "      <td>-9.539698</td>\n",
       "      <td>-5.924528</td>\n",
       "      <td>1.0</td>\n",
       "    </tr>\n",
       "    <tr>\n",
       "      <th>208</th>\n",
       "      <td>-0.051257</td>\n",
       "      <td>2.883422</td>\n",
       "      <td>-33.244854</td>\n",
       "      <td>-11.144104</td>\n",
       "      <td>16.647282</td>\n",
       "      <td>-15.133264</td>\n",
       "      <td>21.228491</td>\n",
       "      <td>4.141500</td>\n",
       "      <td>11.930402</td>\n",
       "      <td>-1.909803</td>\n",
       "      <td>...</td>\n",
       "      <td>5.179042</td>\n",
       "      <td>-3.362991</td>\n",
       "      <td>6.316719</td>\n",
       "      <td>8.003730</td>\n",
       "      <td>-8.228494</td>\n",
       "      <td>-1.989292</td>\n",
       "      <td>13.240460</td>\n",
       "      <td>7.562987</td>\n",
       "      <td>-2.874917</td>\n",
       "      <td>1.0</td>\n",
       "    </tr>\n",
       "  </tbody>\n",
       "</table>\n",
       "<p>5 rows × 52 columns</p>\n",
       "</div>"
      ],
      "text/plain": [
       "            1         2          3          4          5          6  \\\n",
       "0    0.135109 -0.149369  15.771533  14.236106 -35.925736  26.909462   \n",
       "52   0.145933  1.753139 -14.958509 -18.138346  24.836264  -1.771277   \n",
       "104 -0.692834  1.996317 -23.590170 -13.544147  16.388670  -2.811234   \n",
       "156 -0.548514  3.049450 -24.988077  -7.667929  17.888163 -11.045793   \n",
       "208 -0.051257  2.883422 -33.244854 -11.144104  16.647282 -15.133264   \n",
       "\n",
       "             7          8          9         10  ...        43        44  \\\n",
       "0   -15.012988   1.725460   7.095699   1.463356  ...  3.210323 -6.106526   \n",
       "52    6.107979   0.650433  12.429290 -20.766388  ... -6.895596 -2.262812   \n",
       "104   0.292026  19.967159  18.820869 -14.062235  ...  5.066412 -4.839576   \n",
       "156   9.761217  11.444410   4.486601  -8.396764  ...  8.914586  4.633519   \n",
       "208  21.228491   4.141500  11.930402  -1.909803  ...  5.179042 -3.362991   \n",
       "\n",
       "           45        46        47        48         49         50        51  \\\n",
       "0   -6.634347  7.872420  6.820869 -4.395456   7.422894  17.544140  3.223560   \n",
       "52   0.867932  6.583002 -2.523254  1.952146  -1.058738   0.687788  5.562509   \n",
       "104 -7.733660  3.416450 -2.488747 -0.623854  -5.784183  -1.940175  3.148644   \n",
       "156 -0.462167 -4.352639 -6.807166  4.047869   5.908732  -9.539698 -5.924528   \n",
       "208  6.316719  8.003730 -8.228494 -1.989292  13.240460   7.562987 -2.874917   \n",
       "\n",
       "     Polarity  \n",
       "0        -1.0  \n",
       "52        1.0  \n",
       "104       1.0  \n",
       "156       1.0  \n",
       "208       1.0  \n",
       "\n",
       "[5 rows x 52 columns]"
      ]
     },
     "execution_count": 23,
     "metadata": {},
     "output_type": "execute_result"
    }
   ],
   "source": [
    "data_df.head()"
   ]
  },
  {
   "cell_type": "code",
   "execution_count": 24,
   "metadata": {},
   "outputs": [
    {
     "data": {
      "text/plain": [
       "(51840, 52)"
      ]
     },
     "execution_count": 24,
     "metadata": {},
     "output_type": "execute_result"
    }
   ],
   "source": [
    "data_df.shape"
   ]
  },
  {
   "cell_type": "code",
   "execution_count": 12,
   "metadata": {},
   "outputs": [],
   "source": [
    "# To write out the above dataframe to have it stored after the flow of modifications, use:\n",
    "# df4.to_csv('parallel_traces.csv',index=False)"
   ]
  },
  {
   "cell_type": "markdown",
   "metadata": {},
   "source": [
    "## Training/testing split. Resampling the data\n",
    "\n",
    "We note that the data is umbalanced. There are about ~4x as many taces with positive polarity than negative. So we we address this issue by resampling the number of negative-polarity traces by upsampling this category."
   ]
  },
  {
   "cell_type": "code",
   "execution_count": 25,
   "metadata": {},
   "outputs": [
    {
     "name": "stdout",
     "output_type": "stream",
     "text": [
      "Number of seismic traces with positive polarity = 41400\n",
      "Number of seismic traces with negative polarity = 10440\n"
     ]
    }
   ],
   "source": [
    "print('Number of seismic traces with positive polarity =', len(data_df[data_df.Polarity == 1]))\n",
    "print('Number of seismic traces with negative polarity =', len(data_df[data_df.Polarity == -1]))"
   ]
  },
  {
   "cell_type": "code",
   "execution_count": 76,
   "metadata": {},
   "outputs": [
    {
     "data": {
      "text/html": [
       "<div>\n",
       "<style scoped>\n",
       "    .dataframe tbody tr th:only-of-type {\n",
       "        vertical-align: middle;\n",
       "    }\n",
       "\n",
       "    .dataframe tbody tr th {\n",
       "        vertical-align: top;\n",
       "    }\n",
       "\n",
       "    .dataframe thead th {\n",
       "        text-align: right;\n",
       "    }\n",
       "</style>\n",
       "<table border=\"1\" class=\"dataframe\">\n",
       "  <thead>\n",
       "    <tr style=\"text-align: right;\">\n",
       "      <th></th>\n",
       "      <th>1</th>\n",
       "      <th>2</th>\n",
       "      <th>3</th>\n",
       "      <th>4</th>\n",
       "      <th>5</th>\n",
       "      <th>6</th>\n",
       "      <th>7</th>\n",
       "      <th>8</th>\n",
       "      <th>9</th>\n",
       "      <th>10</th>\n",
       "      <th>...</th>\n",
       "      <th>42</th>\n",
       "      <th>43</th>\n",
       "      <th>44</th>\n",
       "      <th>45</th>\n",
       "      <th>46</th>\n",
       "      <th>47</th>\n",
       "      <th>48</th>\n",
       "      <th>49</th>\n",
       "      <th>50</th>\n",
       "      <th>51</th>\n",
       "    </tr>\n",
       "  </thead>\n",
       "  <tbody>\n",
       "    <tr>\n",
       "      <th>2137148</th>\n",
       "      <td>-27.532476</td>\n",
       "      <td>-17.591280</td>\n",
       "      <td>10.046768</td>\n",
       "      <td>-21.997803</td>\n",
       "      <td>-18.320148</td>\n",
       "      <td>23.392122</td>\n",
       "      <td>-22.206720</td>\n",
       "      <td>52.330212</td>\n",
       "      <td>11.693470</td>\n",
       "      <td>-9.435547</td>\n",
       "      <td>...</td>\n",
       "      <td>7.177879</td>\n",
       "      <td>-0.023017</td>\n",
       "      <td>-0.044595</td>\n",
       "      <td>-0.213631</td>\n",
       "      <td>0.270822</td>\n",
       "      <td>-2.558987</td>\n",
       "      <td>2.936208</td>\n",
       "      <td>1.397922</td>\n",
       "      <td>-3.780095</td>\n",
       "      <td>-0.486677</td>\n",
       "    </tr>\n",
       "    <tr>\n",
       "      <th>362492</th>\n",
       "      <td>-0.414423</td>\n",
       "      <td>-0.715706</td>\n",
       "      <td>-0.678090</td>\n",
       "      <td>1.482096</td>\n",
       "      <td>5.831844</td>\n",
       "      <td>27.480686</td>\n",
       "      <td>13.823550</td>\n",
       "      <td>35.453995</td>\n",
       "      <td>-2.047973</td>\n",
       "      <td>12.124044</td>\n",
       "      <td>...</td>\n",
       "      <td>-12.862269</td>\n",
       "      <td>4.966902</td>\n",
       "      <td>-0.357170</td>\n",
       "      <td>8.553045</td>\n",
       "      <td>-2.303917</td>\n",
       "      <td>4.615224</td>\n",
       "      <td>0.317074</td>\n",
       "      <td>0.578510</td>\n",
       "      <td>4.448454</td>\n",
       "      <td>-4.389345</td>\n",
       "    </tr>\n",
       "    <tr>\n",
       "      <th>1676116</th>\n",
       "      <td>99.320251</td>\n",
       "      <td>-57.688053</td>\n",
       "      <td>-117.979378</td>\n",
       "      <td>102.668655</td>\n",
       "      <td>-33.522755</td>\n",
       "      <td>-65.195419</td>\n",
       "      <td>-18.945452</td>\n",
       "      <td>112.786255</td>\n",
       "      <td>-55.418331</td>\n",
       "      <td>-46.398830</td>\n",
       "      <td>...</td>\n",
       "      <td>13.107399</td>\n",
       "      <td>1.270122</td>\n",
       "      <td>-0.812378</td>\n",
       "      <td>2.281932</td>\n",
       "      <td>0.660264</td>\n",
       "      <td>13.656757</td>\n",
       "      <td>-7.672723</td>\n",
       "      <td>34.929375</td>\n",
       "      <td>-10.637832</td>\n",
       "      <td>7.645483</td>\n",
       "    </tr>\n",
       "  </tbody>\n",
       "</table>\n",
       "<p>3 rows × 51 columns</p>\n",
       "</div>"
      ],
      "text/plain": [
       "                1          2           3           4          5          6   \\\n",
       "2137148 -27.532476 -17.591280   10.046768  -21.997803 -18.320148  23.392122   \n",
       "362492   -0.414423  -0.715706   -0.678090    1.482096   5.831844  27.480686   \n",
       "1676116  99.320251 -57.688053 -117.979378  102.668655 -33.522755 -65.195419   \n",
       "\n",
       "                7           8          9          10  ...         42  \\\n",
       "2137148 -22.206720   52.330212  11.693470  -9.435547  ...   7.177879   \n",
       "362492   13.823550   35.453995  -2.047973  12.124044  ... -12.862269   \n",
       "1676116 -18.945452  112.786255 -55.418331 -46.398830  ...  13.107399   \n",
       "\n",
       "               43        44        45        46         47        48  \\\n",
       "2137148 -0.023017 -0.044595 -0.213631  0.270822  -2.558987  2.936208   \n",
       "362492   4.966902 -0.357170  8.553045 -2.303917   4.615224  0.317074   \n",
       "1676116  1.270122 -0.812378  2.281932  0.660264  13.656757 -7.672723   \n",
       "\n",
       "                49         50        51  \n",
       "2137148   1.397922  -3.780095 -0.486677  \n",
       "362492    0.578510   4.448454 -4.389345  \n",
       "1676116  34.929375 -10.637832  7.645483  \n",
       "\n",
       "[3 rows x 51 columns]"
      ]
     },
     "execution_count": 76,
     "metadata": {},
     "output_type": "execute_result"
    }
   ],
   "source": [
    "X_train.head(3)"
   ]
  },
  {
   "cell_type": "code",
   "execution_count": 99,
   "metadata": {},
   "outputs": [],
   "source": [
    "#train/test split\n",
    "X = data_df.drop(labels='Polarity',axis=1)\n",
    "y = data_df['Polarity']\n",
    "X_train,X_test,y_train,y_test = train_test_split(X,y,random_state=12)\n",
    "\n",
    "\n",
    "# Standardize the attributes\n",
    "from sklearn.preprocessing import StandardScaler\n",
    "\n",
    "scaler = StandardScaler().fit(X_train)\n",
    "X_train_s = pd.DataFrame(scaler.transform(X_train),index=X_train.index)\n",
    "X_test_s = pd.DataFrame(scaler.transform(X_test),index=X_test.index)"
   ]
  },
  {
   "cell_type": "code",
   "execution_count": 101,
   "metadata": {},
   "outputs": [
    {
     "name": "stdout",
     "output_type": "stream",
     "text": [
      "\n",
      "~~~~~~~~~~ After upsampling training data:\n",
      " \n",
      "Number of training seismic traces with positive polarity = 31038\n",
      "Number of training seismic traces with negative polarity = 31038\n"
     ]
    }
   ],
   "source": [
    "from sklearn.utils import resample\n",
    "\n",
    "#re-merge training attributes and labels to resample\n",
    "all_training_s = X_train_s.copy()\n",
    "all_training_s['Polarity'] = y_train\n",
    "\n",
    "# We upsample the minority class by creating random copies of the \n",
    "# samples in this class.\n",
    "\n",
    "new_negative_batch_s = resample(all_training_s[all_training_s.Polarity == -1], n_samples = 23196, random_state=0)\n",
    "balanced_training_s = pd.concat([all_training_s,new_negative_batch_s])\n",
    "\n",
    "\n",
    "#Peel off the labels again:\n",
    "X_train_balanced_s = balanced_training_s.drop(labels='Polarity',axis=1)\n",
    "y_train_balanced_s = balanced_training_s['Polarity']\n",
    "\n",
    "print('\\n~~~~~~~~~~ After upsampling training data:\\n ')\n",
    "print('Number of training seismic traces with positive polarity =', len(balanced_training_s[balanced_training_s.Polarity == 1]))\n",
    "print('Number of training seismic traces with negative polarity =', len(balanced_training_s[balanced_training_s.Polarity == -1]))"
   ]
  },
  {
   "cell_type": "code",
   "execution_count": 83,
   "metadata": {},
   "outputs": [
    {
     "name": "stdout",
     "output_type": "stream",
     "text": [
      "\n",
      "~~~~~~~~~~ Before upsampling training data:\n",
      " \n",
      "Number of seismic traces with positive polarity = 31038\n",
      "Number of seismic traces with negative polarity = 7842\n",
      "\n",
      "~~~~~~~~~~ After upsampling training data:\n",
      " \n",
      "Number of training seismic traces with positive polarity = 31038\n",
      "Number of training seismic traces with negative polarity = 31038\n"
     ]
    }
   ],
   "source": [
    "from sklearn.utils import resample\n",
    "\n",
    "#re-merge training attributes and labels to resample\n",
    "all_training = X_train.copy()\n",
    "all_training['Polarity'] = y_train\n",
    "\n",
    "print('\\n~~~~~~~~~~ Before upsampling training data:\\n ')\n",
    "print('Number of seismic traces with positive polarity =', len(all_training[all_training.Polarity == 1]))\n",
    "print('Number of seismic traces with negative polarity =', len(all_training[all_training.Polarity == -1]))\n",
    "\n",
    "# We upsample the minority class by creating random copies of the \n",
    "# samples in this class.\n",
    "\n",
    "new_negative_batch = resample(all_training[all_training.Polarity == -1], n_samples = 23196, random_state=0)\n",
    "balanced_training = pd.concat([all_training,new_negative_batch])\n",
    "\n",
    "\n",
    "print('\\n~~~~~~~~~~ After upsampling training data:\\n ')\n",
    "print('Number of training seismic traces with positive polarity =', len(balanced_training[balanced_training.Polarity == 1]))\n",
    "print('Number of training seismic traces with negative polarity =', len(balanced_training[balanced_training.Polarity == -1]))\n",
    "\n",
    "#Peel off the labels again:\n",
    "X_train_balanced = balanced_training.drop(labels='Polarity',axis=1)\n",
    "y_train_balanced = balanced_training['Polarity']\n"
   ]
  },
  {
   "cell_type": "markdown",
   "metadata": {},
   "source": [
    "## Building the nearest-neighbors model\n",
    "We proceed to build the model with balanced training data."
   ]
  },
  {
   "cell_type": "markdown",
   "metadata": {},
   "source": [
    "We test to find the optimal k, the number of neighbors, via cross validation using cross_val_score. Since this is a classification problem, we test for accuracy."
   ]
  },
  {
   "cell_type": "code",
   "execution_count": 38,
   "metadata": {},
   "outputs": [],
   "source": [
    "cv_scores = []\n",
    "for n in range(1,14,2):\n",
    "    knn = KNeighborsClassifier(n_neighbors=n,weights='uniform')\n",
    "    scores = cross_val_score(knn, X_train_balanced, y_train_balanced, cv=3, scoring='accuracy')\n",
    "    cv_scores.append(scores.mean())"
   ]
  },
  {
   "cell_type": "code",
   "execution_count": 113,
   "metadata": {},
   "outputs": [],
   "source": [
    "cv_scores_s = []\n",
    "for n in range(1,14,2):\n",
    "    knn = KNeighborsClassifier(n_neighbors=n,weights='uniform')\n",
    "    scores = cross_val_score(knn, X_train_balanced_s, y_train_balanced, cv=3, scoring='accuracy')\n",
    "    cv_scores_s.append(scores.mean())"
   ]
  },
  {
   "cell_type": "code",
   "execution_count": 39,
   "metadata": {},
   "outputs": [
    {
     "name": "stdout",
     "output_type": "stream",
     "text": [
      "\n",
      " Optimal k = 1\n"
     ]
    },
    {
     "data": {
      "image/png": "[encoded data removed]",
      "text/plain": [
       "<Figure size 432x288 with 1 Axes>"
      ]
     },
     "metadata": {
      "needs_background": "light"
     },
     "output_type": "display_data"
    }
   ],
   "source": [
    "# Let's plot the misclassification error, call it msc\n",
    "\n",
    "msc = [1 - x for x in cv_scores]\n",
    "n_vals = (list(range(1,14,2)))\n",
    "\n",
    "# Print the optimal k value\n",
    "optimalMSC = n_vals[msc.index(min(msc))]\n",
    "print('\\n Optimal k =', optimalMSC)\n",
    "\n",
    "plt.plot(n_vals, msc,'s')\n",
    "plt.title('Error(k)')\n",
    "plt.xlabel(\"Number of Neighbors k\")\n",
    "plt.ylabel(\"Misclassification Error\")\n",
    "plt.show()\n",
    "\n"
   ]
  },
  {
   "cell_type": "code",
   "execution_count": 115,
   "metadata": {},
   "outputs": [
    {
     "name": "stdout",
     "output_type": "stream",
     "text": [
      "\n",
      " Optimal k = 1\n"
     ]
    },
    {
     "data": {
      "image/png": "[encoded data removed]",
      "text/plain": [
       "<Figure size 432x288 with 1 Axes>"
      ]
     },
     "metadata": {
      "needs_background": "light"
     },
     "output_type": "display_data"
    }
   ],
   "source": [
    "# Let's plot the misclassification error, call it msc\n",
    "\n",
    "msc_s = [1 - x for x in cv_scores_s]\n",
    "n_vals = (list(range(1,14,2)))\n",
    "\n",
    "# Print the optimal k value\n",
    "optimalMSC_s = n_vals[msc_s.index(min(msc_s))]\n",
    "print('\\n Optimal k =', optimalMSC_s)\n",
    "\n",
    "plt.plot(n_vals, msc_s,'s')\n",
    "plt.title('Error(k)')\n",
    "plt.xlabel(\"Number of Neighbors k\")\n",
    "plt.ylabel(\"Misclassification Error\")\n",
    "plt.show()\n",
    "\n"
   ]
  },
  {
   "cell_type": "code",
   "execution_count": 103,
   "metadata": {},
   "outputs": [
    {
     "name": "stdout",
     "output_type": "stream",
     "text": [
      "Score for k = 1 knn-model 0.9496141975308642\n"
     ]
    }
   ],
   "source": [
    "knn1 = KNeighborsClassifier(n_neighbors=1, weights='uniform').fit(X_train_balanced,y_train_balanced)\n",
    "print('Score for k = 1 knn-model', knn1.score(X_test,y_test))"
   ]
  },
  {
   "cell_type": "code",
   "execution_count": 104,
   "metadata": {},
   "outputs": [
    {
     "name": "stdout",
     "output_type": "stream",
     "text": [
      "Score for k = 1 knn-model 0.7563271604938272\n"
     ]
    }
   ],
   "source": [
    "knn1_s = KNeighborsClassifier(n_neighbors=1, weights='uniform').fit(X_train_balanced_s,y_train_balanced)\n",
    "print('Score for k = 1 knn-model', knn1.score(X_test_s,y_test))"
   ]
  },
  {
   "cell_type": "code",
   "execution_count": 107,
   "metadata": {},
   "outputs": [],
   "source": [
    "y_pred=knn1.predict(X_test)\n",
    "y_pred_s = knn1_s.predict(X_test_s)"
   ]
  },
  {
   "cell_type": "code",
   "execution_count": 111,
   "metadata": {},
   "outputs": [
    {
     "data": {
      "text/html": [
       "<div>\n",
       "<style scoped>\n",
       "    .dataframe tbody tr th:only-of-type {\n",
       "        vertical-align: middle;\n",
       "    }\n",
       "\n",
       "    .dataframe tbody tr th {\n",
       "        vertical-align: top;\n",
       "    }\n",
       "\n",
       "    .dataframe thead th {\n",
       "        text-align: right;\n",
       "    }\n",
       "</style>\n",
       "<table border=\"1\" class=\"dataframe\">\n",
       "  <thead>\n",
       "    <tr style=\"text-align: right;\">\n",
       "      <th></th>\n",
       "      <th>actual</th>\n",
       "      <th>knn1</th>\n",
       "      <th>knn1_s</th>\n",
       "    </tr>\n",
       "  </thead>\n",
       "  <tbody>\n",
       "    <tr>\n",
       "      <th>2243280</th>\n",
       "      <td>1.0</td>\n",
       "      <td>1.0</td>\n",
       "      <td>1.0</td>\n",
       "    </tr>\n",
       "    <tr>\n",
       "      <th>2352584</th>\n",
       "      <td>1.0</td>\n",
       "      <td>1.0</td>\n",
       "      <td>1.0</td>\n",
       "    </tr>\n",
       "    <tr>\n",
       "      <th>443092</th>\n",
       "      <td>1.0</td>\n",
       "      <td>1.0</td>\n",
       "      <td>-1.0</td>\n",
       "    </tr>\n",
       "    <tr>\n",
       "      <th>1761708</th>\n",
       "      <td>1.0</td>\n",
       "      <td>1.0</td>\n",
       "      <td>1.0</td>\n",
       "    </tr>\n",
       "    <tr>\n",
       "      <th>715780</th>\n",
       "      <td>1.0</td>\n",
       "      <td>1.0</td>\n",
       "      <td>1.0</td>\n",
       "    </tr>\n",
       "    <tr>\n",
       "      <th>509080</th>\n",
       "      <td>1.0</td>\n",
       "      <td>1.0</td>\n",
       "      <td>1.0</td>\n",
       "    </tr>\n",
       "    <tr>\n",
       "      <th>864604</th>\n",
       "      <td>1.0</td>\n",
       "      <td>1.0</td>\n",
       "      <td>1.0</td>\n",
       "    </tr>\n",
       "    <tr>\n",
       "      <th>489372</th>\n",
       "      <td>-1.0</td>\n",
       "      <td>-1.0</td>\n",
       "      <td>1.0</td>\n",
       "    </tr>\n",
       "    <tr>\n",
       "      <th>1493180</th>\n",
       "      <td>1.0</td>\n",
       "      <td>1.0</td>\n",
       "      <td>1.0</td>\n",
       "    </tr>\n",
       "    <tr>\n",
       "      <th>2217280</th>\n",
       "      <td>1.0</td>\n",
       "      <td>1.0</td>\n",
       "      <td>1.0</td>\n",
       "    </tr>\n",
       "    <tr>\n",
       "      <th>31512</th>\n",
       "      <td>-1.0</td>\n",
       "      <td>-1.0</td>\n",
       "      <td>1.0</td>\n",
       "    </tr>\n",
       "    <tr>\n",
       "      <th>1995604</th>\n",
       "      <td>1.0</td>\n",
       "      <td>1.0</td>\n",
       "      <td>1.0</td>\n",
       "    </tr>\n",
       "    <tr>\n",
       "      <th>1957852</th>\n",
       "      <td>1.0</td>\n",
       "      <td>1.0</td>\n",
       "      <td>1.0</td>\n",
       "    </tr>\n",
       "    <tr>\n",
       "      <th>1852396</th>\n",
       "      <td>1.0</td>\n",
       "      <td>1.0</td>\n",
       "      <td>1.0</td>\n",
       "    </tr>\n",
       "    <tr>\n",
       "      <th>1994460</th>\n",
       "      <td>1.0</td>\n",
       "      <td>1.0</td>\n",
       "      <td>1.0</td>\n",
       "    </tr>\n",
       "    <tr>\n",
       "      <th>132236</th>\n",
       "      <td>1.0</td>\n",
       "      <td>1.0</td>\n",
       "      <td>1.0</td>\n",
       "    </tr>\n",
       "    <tr>\n",
       "      <th>1395108</th>\n",
       "      <td>-1.0</td>\n",
       "      <td>-1.0</td>\n",
       "      <td>-1.0</td>\n",
       "    </tr>\n",
       "    <tr>\n",
       "      <th>1427660</th>\n",
       "      <td>-1.0</td>\n",
       "      <td>1.0</td>\n",
       "      <td>1.0</td>\n",
       "    </tr>\n",
       "    <tr>\n",
       "      <th>1583296</th>\n",
       "      <td>1.0</td>\n",
       "      <td>1.0</td>\n",
       "      <td>1.0</td>\n",
       "    </tr>\n",
       "    <tr>\n",
       "      <th>2445924</th>\n",
       "      <td>1.0</td>\n",
       "      <td>1.0</td>\n",
       "      <td>1.0</td>\n",
       "    </tr>\n",
       "  </tbody>\n",
       "</table>\n",
       "</div>"
      ],
      "text/plain": [
       "         actual  knn1  knn1_s\n",
       "2243280     1.0   1.0     1.0\n",
       "2352584     1.0   1.0     1.0\n",
       "443092      1.0   1.0    -1.0\n",
       "1761708     1.0   1.0     1.0\n",
       "715780      1.0   1.0     1.0\n",
       "509080      1.0   1.0     1.0\n",
       "864604      1.0   1.0     1.0\n",
       "489372     -1.0  -1.0     1.0\n",
       "1493180     1.0   1.0     1.0\n",
       "2217280     1.0   1.0     1.0\n",
       "31512      -1.0  -1.0     1.0\n",
       "1995604     1.0   1.0     1.0\n",
       "1957852     1.0   1.0     1.0\n",
       "1852396     1.0   1.0     1.0\n",
       "1994460     1.0   1.0     1.0\n",
       "132236      1.0   1.0     1.0\n",
       "1395108    -1.0  -1.0    -1.0\n",
       "1427660    -1.0   1.0     1.0\n",
       "1583296     1.0   1.0     1.0\n",
       "2445924     1.0   1.0     1.0"
      ]
     },
     "execution_count": 111,
     "metadata": {},
     "output_type": "execute_result"
    }
   ],
   "source": [
    "all_results = pd.DataFrame({'actual':y_test,'knn1':y_pred,'knn1_s':y_pred_s})\n",
    "all_results.head(20)"
   ]
  },
  {
   "cell_type": "markdown",
   "metadata": {},
   "source": [
    "## 3 features"
   ]
  },
  {
   "cell_type": "code",
   "execution_count": 73,
   "metadata": {},
   "outputs": [],
   "source": [
    "X_train_balanced_3d = X_train_balanced[[1,2,3]]\n",
    "X_test_3d = X_test[[1,2,3]]"
   ]
  },
  {
   "cell_type": "code",
   "execution_count": 74,
   "metadata": {},
   "outputs": [
    {
     "name": "stdout",
     "output_type": "stream",
     "text": [
      "Score for k = 1 knn-model with 3 attributes = 0.8083333333333333\n"
     ]
    }
   ],
   "source": [
    "knn_3d = KNeighborsClassifier(n_neighbors=1, weights='uniform').fit(X_train_balanced_3d, y_train_balanced)\n",
    "print('Score for k = 1 knn-model with 3 attributes =',knn_3d.score(X_test_3d,y_test))"
   ]
  },
  {
   "cell_type": "code",
   "execution_count": 75,
   "metadata": {},
   "outputs": [
    {
     "data": {
      "text/plain": [
       "0.799537037037037"
      ]
     },
     "execution_count": 75,
     "metadata": {},
     "output_type": "execute_result"
    }
   ],
   "source": [
    "dummy_constant = DummyClassifier(strategy='constant',constant=1).fit(X_train_balanced_3d,y_train_balanced)\n",
    "dummy_constant.score(X_test_3d,y_test)"
   ]
  },
  {
   "cell_type": "markdown",
   "metadata": {},
   "source": [
    "### Let's plot the 2d model\n",
    "\n",
    "We will use the model based on the first two attributes."
   ]
  },
  {
   "cell_type": "code",
   "execution_count": 62,
   "metadata": {},
   "outputs": [],
   "source": [
    "x1_min, x1_max = X_train_balanced[1].min() - 1, X_train_balanced[1].max() + 1\n",
    "x2_min, x2_max = X_train_balanced[2].min() - 1, X_train_balanced[2].max() + 1"
   ]
  },
  {
   "cell_type": "code",
   "execution_count": 63,
   "metadata": {},
   "outputs": [],
   "source": [
    "h = 1\n",
    "xx, yy = np.meshgrid(np.arange(x1_min, x1_max, h),\n",
    "                         np.arange(x2_min, x2_max, h))"
   ]
  },
  {
   "cell_type": "code",
   "execution_count": 68,
   "metadata": {},
   "outputs": [],
   "source": [
    "Z = knn1.predict(np.c_[xx.ravel(), yy.ravel()])"
   ]
  },
  {
   "cell_type": "code",
   "execution_count": 51,
   "metadata": {},
   "outputs": [],
   "source": [
    "# Create color maps\n",
    "cmap_light = ListedColormap(['#FFAAAA', '#AAFFAA', '#AAAAFF'])\n",
    "cmap_bold = ListedColormap(['#FF0000', '#00FF00', '#0000FF'])"
   ]
  },
  {
   "cell_type": "code",
   "execution_count": 53,
   "metadata": {},
   "outputs": [
    {
     "data": {
      "image/png": "[encoded data removed]",
      "text/plain": [
       "<Figure size 792x792 with 1 Axes>"
      ]
     },
     "metadata": {
      "needs_background": "light"
     },
     "output_type": "display_data"
    }
   ],
   "source": [
    "Z = Z.reshape(xx.shape)\n",
    "plt.figure(figsize=(11,11))\n",
    "plt.pcolormesh(xx, yy, Z,cmap=cmap_light)\n",
    "\n",
    "# plotting the training data points\n",
    "plt.scatter(X_train_balanced_2d[1].astype('float'),X_train_balanced_2d[2].astype('float'),c=y_train_balanced,s=5,cmap=cmap_bold)\n",
    "plt.show()\n"
   ]
  },
  {
   "cell_type": "markdown",
   "metadata": {},
   "source": [
    "### Can we improve our results if we normalize the input data?\n",
    "\n",
    "We will see if that in the 2d-dimensional case l2-normalization of each trace is not helpful (actually harmful)."
   ]
  },
  {
   "cell_type": "code",
   "execution_count": 48,
   "metadata": {},
   "outputs": [],
   "source": [
    "from sklearn.preprocessing import Normalizer"
   ]
  },
  {
   "cell_type": "code",
   "execution_count": 49,
   "metadata": {},
   "outputs": [],
   "source": [
    "transformer = Normalizer(norm='l2').fit(X2d_train_2)\n",
    "X2d_train_scaled = transformer.transform(X2d_train_2)\n",
    "X2d_test_scaled = transformer.transform(X2d_test_2)"
   ]
  },
  {
   "cell_type": "code",
   "execution_count": 50,
   "metadata": {},
   "outputs": [
    {
     "data": {
      "text/html": [
       "<div>\n",
       "<style scoped>\n",
       "    .dataframe tbody tr th:only-of-type {\n",
       "        vertical-align: middle;\n",
       "    }\n",
       "\n",
       "    .dataframe tbody tr th {\n",
       "        vertical-align: top;\n",
       "    }\n",
       "\n",
       "    .dataframe thead th {\n",
       "        text-align: right;\n",
       "    }\n",
       "</style>\n",
       "<table border=\"1\" class=\"dataframe\">\n",
       "  <thead>\n",
       "    <tr style=\"text-align: right;\">\n",
       "      <th></th>\n",
       "      <th>1</th>\n",
       "      <th>2</th>\n",
       "    </tr>\n",
       "  </thead>\n",
       "  <tbody>\n",
       "    <tr>\n",
       "      <th>439660</th>\n",
       "      <td>-1.03471923e+00</td>\n",
       "      <td>-5.97857475e-01</td>\n",
       "    </tr>\n",
       "    <tr>\n",
       "      <th>1914016</th>\n",
       "      <td>2.51424591e+02</td>\n",
       "      <td>1.54621094e+02</td>\n",
       "    </tr>\n",
       "    <tr>\n",
       "      <th>420420</th>\n",
       "      <td>1.45749524e-01</td>\n",
       "      <td>-2.43782178e-01</td>\n",
       "    </tr>\n",
       "    <tr>\n",
       "      <th>309868</th>\n",
       "      <td>1.59413166e+01</td>\n",
       "      <td>3.41016121e+01</td>\n",
       "    </tr>\n",
       "    <tr>\n",
       "      <th>1598064</th>\n",
       "      <td>-1.05631836e+02</td>\n",
       "      <td>1.04834702e+02</td>\n",
       "    </tr>\n",
       "  </tbody>\n",
       "</table>\n",
       "</div>"
      ],
      "text/plain": [
       "                       1                2\n",
       "439660   -1.03471923e+00  -5.97857475e-01\n",
       "1914016   2.51424591e+02   1.54621094e+02\n",
       "420420    1.45749524e-01  -2.43782178e-01\n",
       "309868    1.59413166e+01   3.41016121e+01\n",
       "1598064  -1.05631836e+02   1.04834702e+02"
      ]
     },
     "execution_count": 50,
     "metadata": {},
     "output_type": "execute_result"
    }
   ],
   "source": [
    "X2d_train_2.head()"
   ]
  },
  {
   "cell_type": "code",
   "execution_count": 51,
   "metadata": {},
   "outputs": [
    {
     "data": {
      "text/plain": [
       "array([[-0.86585793, -0.50028996],\n",
       "       [ 0.85181212,  0.52384741],\n",
       "       [ 0.51314951, -0.85829924],\n",
       "       ...,\n",
       "       [-0.84555938, -0.53388139],\n",
       "       [ 0.16935147,  0.98555572],\n",
       "       [-0.53483076, -0.8449592 ]])"
      ]
     },
     "execution_count": 51,
     "metadata": {},
     "output_type": "execute_result"
    }
   ],
   "source": [
    "X2d_train_scaled"
   ]
  },
  {
   "cell_type": "code",
   "execution_count": 52,
   "metadata": {},
   "outputs": [],
   "source": [
    "nrnb_scaled = KNeighborsClassifier(n_neighbors=30,weights='uniform').fit(X2d_train_scaled,y2d_train_2)"
   ]
  },
  {
   "cell_type": "code",
   "execution_count": 54,
   "metadata": {},
   "outputs": [
    {
     "name": "stdout",
     "output_type": "stream",
     "text": [
      "After ls-normalizing each observation, we obtain an accuracy of 0.7949845679012346\n"
     ]
    }
   ],
   "source": [
    "print('After ls-normalizing each observation, we obtain an accuracy of', nrnb_scaled.score(X2d_test_scaled,y2d_test_2))"
   ]
  },
  {
   "cell_type": "markdown",
   "metadata": {},
   "source": [
    "Normalizing isn't helpful for this dataset."
   ]
  },
  {
   "cell_type": "code",
   "execution_count": null,
   "metadata": {},
   "outputs": [],
   "source": []
  }
 ],
 "metadata": {
  "kernelspec": {
   "display_name": "Python 3",
   "language": "python",
   "name": "python3"
  },
  "language_info": {
   "codemirror_mode": {
    "name": "ipython",
    "version": 3
   },
   "file_extension": ".py",
   "mimetype": "text/x-python",
   "name": "python",
   "nbconvert_exporter": "python",
   "pygments_lexer": "ipython3",
   "version": "3.7.3"
  }
 },
 "nbformat": 4,
 "nbformat_minor": 2
}
