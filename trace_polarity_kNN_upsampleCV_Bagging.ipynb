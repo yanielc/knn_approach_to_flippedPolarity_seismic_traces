{
 "cells": [
  {
   "cell_type": "markdown",
   "metadata": {},
   "source": [
    "\n",
    "meta-estimator:\n",
    "\n",
    "An estimator which takes another estimator as a parameter.\n",
    "\n",
    "https://scikit-learn.org/stable/modules/generated/sklearn.ensemble.BaggingClassifier.html\n",
    "\n",
    "https://www.analyticsvidhya.com/blog/2018/06/comprehensive-guide-for-ensemble-models/\n",
    "\n"
   ]
  },
  {
   "cell_type": "markdown",
   "metadata": {},
   "source": [
    "# kNN approach to finding traces with flipped polarity in seismic data"
   ]
  },
  {
   "cell_type": "markdown",
   "metadata": {},
   "source": [
    "We use ML to classify the polarity $(\\pm 1)$ of seismic traces. Each trace corresponds to a hydrophone which listens for sound wave reflecting from the geology in the subsurface of the Earth. The sound waves have \"shots\" as their sources. These shots are denotations set off above the ground.\n",
    "\n",
    "Sometimes the channel arrays have geophones which are recording data with a phase inversion of -1. That is, they record -f(t) when they should be recording f(t). To process seismic data into a tomographic image, these flipped polarity traces need to be identified.\n",
    "\n",
    "This open source seismic data comes with channels that have this error. We use a nearest-neighbors algorithm to catalog them.\n",
    "\n"
   ]
  },
  {
   "cell_type": "code",
   "execution_count": 1,
   "metadata": {},
   "outputs": [],
   "source": [
    "%matplotlib inline\n",
    "import matplotlib.pyplot as plt\n",
    "\n",
    "import pandas as pd, numpy as np\n",
    "from sklearn.model_selection import train_test_split\n",
    "\n",
    "from sklearn.neighbors import KNeighborsClassifier\n",
    "from sklearn.model_selection import cross_val_score"
   ]
  },
  {
   "cell_type": "markdown",
   "metadata": {},
   "source": [
    "## Reading in and cleaning the data"
   ]
  },
  {
   "cell_type": "code",
   "execution_count": 117,
   "metadata": {},
   "outputs": [],
   "source": [
    "raw_data = pd.read_csv('/Users/cabrera/Documents/10_python_coding/550_seismic_trace_polarity/seismic_traces.txt',header=None,skiprows=[0])[0]"
   ]
  },
  {
   "cell_type": "markdown",
   "metadata": {},
   "source": [
    "The data is being read as series:"
   ]
  },
  {
   "cell_type": "code",
   "execution_count": 118,
   "metadata": {},
   "outputs": [
    {
     "data": {
      "text/plain": [
       "(5391360,)"
      ]
     },
     "execution_count": 118,
     "metadata": {},
     "output_type": "execute_result"
    }
   ],
   "source": [
    "raw_data.shape"
   ]
  },
  {
   "cell_type": "markdown",
   "metadata": {},
   "source": [
    "But each datapoint is made up of 51 attributes and a target label $(\\pm 1)$, so we need to reorganize:"
   ]
  },
  {
   "cell_type": "code",
   "execution_count": 5,
   "metadata": {},
   "outputs": [
    {
     "data": {
      "text/html": [
       "<div>\n",
       "<style scoped>\n",
       "    .dataframe tbody tr th:only-of-type {\n",
       "        vertical-align: middle;\n",
       "    }\n",
       "\n",
       "    .dataframe tbody tr th {\n",
       "        vertical-align: top;\n",
       "    }\n",
       "\n",
       "    .dataframe thead th {\n",
       "        text-align: right;\n",
       "    }\n",
       "</style>\n",
       "<table border=\"1\" class=\"dataframe\">\n",
       "  <thead>\n",
       "    <tr style=\"text-align: right;\">\n",
       "      <th></th>\n",
       "      <th>0</th>\n",
       "    </tr>\n",
       "  </thead>\n",
       "  <tbody>\n",
       "    <tr>\n",
       "      <th>0</th>\n",
       "      <td>channel=1 shot=2372 label=-1</td>\n",
       "    </tr>\n",
       "    <tr>\n",
       "      <th>1</th>\n",
       "      <td>0  1.35109469e-01</td>\n",
       "    </tr>\n",
       "    <tr>\n",
       "      <th>2</th>\n",
       "      <td>1 -1.49369106e-01</td>\n",
       "    </tr>\n",
       "    <tr>\n",
       "      <th>3</th>\n",
       "      <td>2  1.57715330e+01</td>\n",
       "    </tr>\n",
       "    <tr>\n",
       "      <th>4</th>\n",
       "      <td>3  1.42361059e+01</td>\n",
       "    </tr>\n",
       "  </tbody>\n",
       "</table>\n",
       "</div>"
      ],
      "text/plain": [
       "                               0\n",
       "0   channel=1 shot=2372 label=-1\n",
       "1              0  1.35109469e-01\n",
       "2              1 -1.49369106e-01\n",
       "3              2  1.57715330e+01\n",
       "4              3  1.42361059e+01"
      ]
     },
     "execution_count": 5,
     "metadata": {},
     "output_type": "execute_result"
    }
   ],
   "source": [
    "raw_data.head(5)"
   ]
  },
  {
   "cell_type": "code",
   "execution_count": 126,
   "metadata": {},
   "outputs": [],
   "source": [
    "def series_to_dataframe(series,length,sample):\n",
    "    #function to convert series to dataframe such that entries\n",
    "    #within [i,i+52], i % sample = 0, are mapped to a column\n",
    "    #length = total entries from series to be mapped to the dataframe\n",
    "    \n",
    "    return pd.DataFrame({k: series[k*sample:(k+1)*sample].array for k in range(length//sample)})"
   ]
  },
  {
   "cell_type": "code",
   "execution_count": 128,
   "metadata": {},
   "outputs": [],
   "source": [
    "traces_df = series_to_dataframe_2(raw_data,len(raw_data)//2,52)"
   ]
  },
  {
   "cell_type": "code",
   "execution_count": 129,
   "metadata": {},
   "outputs": [
    {
     "data": {
      "text/html": [
       "<div>\n",
       "<style scoped>\n",
       "    .dataframe tbody tr th:only-of-type {\n",
       "        vertical-align: middle;\n",
       "    }\n",
       "\n",
       "    .dataframe tbody tr th {\n",
       "        vertical-align: top;\n",
       "    }\n",
       "\n",
       "    .dataframe thead th {\n",
       "        text-align: right;\n",
       "    }\n",
       "</style>\n",
       "<table border=\"1\" class=\"dataframe\">\n",
       "  <thead>\n",
       "    <tr style=\"text-align: right;\">\n",
       "      <th></th>\n",
       "      <th>0</th>\n",
       "      <th>1</th>\n",
       "      <th>2</th>\n",
       "      <th>3</th>\n",
       "      <th>4</th>\n",
       "      <th>5</th>\n",
       "      <th>6</th>\n",
       "      <th>7</th>\n",
       "      <th>8</th>\n",
       "      <th>9</th>\n",
       "      <th>...</th>\n",
       "      <th>51830</th>\n",
       "      <th>51831</th>\n",
       "      <th>51832</th>\n",
       "      <th>51833</th>\n",
       "      <th>51834</th>\n",
       "      <th>51835</th>\n",
       "      <th>51836</th>\n",
       "      <th>51837</th>\n",
       "      <th>51838</th>\n",
       "      <th>51839</th>\n",
       "    </tr>\n",
       "  </thead>\n",
       "  <tbody>\n",
       "    <tr>\n",
       "      <th>0</th>\n",
       "      <td>channel=1 shot=2372 label=-1</td>\n",
       "      <td>channel=9 shot=2372 label=1</td>\n",
       "      <td>channel=17 shot=2372 label=1</td>\n",
       "      <td>channel=25 shot=2372 label=1</td>\n",
       "      <td>channel=33 shot=2372 label=1</td>\n",
       "      <td>channel=41 shot=2372 label=-1</td>\n",
       "      <td>channel=49 shot=2372 label=1</td>\n",
       "      <td>channel=57 shot=2372 label=1</td>\n",
       "      <td>channel=65 shot=2372 label=1</td>\n",
       "      <td>channel=73 shot=2372 label=1</td>\n",
       "      <td>...</td>\n",
       "      <td>channel=2225 shot=6668 label=1</td>\n",
       "      <td>channel=2233 shot=6668 label=1</td>\n",
       "      <td>channel=2241 shot=6668 label=-1</td>\n",
       "      <td>channel=2249 shot=6668 label=1</td>\n",
       "      <td>channel=2257 shot=6668 label=1</td>\n",
       "      <td>channel=2265 shot=6668 label=1</td>\n",
       "      <td>channel=2273 shot=6668 label=1</td>\n",
       "      <td>channel=2281 shot=6668 label=-1</td>\n",
       "      <td>channel=2289 shot=6668 label=1</td>\n",
       "      <td>channel=2297 shot=6668 label=1</td>\n",
       "    </tr>\n",
       "    <tr>\n",
       "      <th>1</th>\n",
       "      <td>0  1.35109469e-01</td>\n",
       "      <td>0  1.45933300e-01</td>\n",
       "      <td>0 -6.92833722e-01</td>\n",
       "      <td>0 -5.48514366e-01</td>\n",
       "      <td>0 -5.12570068e-02</td>\n",
       "      <td>0 -8.86980057e-01</td>\n",
       "      <td>0 -1.76063627e-01</td>\n",
       "      <td>0  2.22643271e-01</td>\n",
       "      <td>0  1.17118979e+00</td>\n",
       "      <td>0  5.71239889e-01</td>\n",
       "      <td>...</td>\n",
       "      <td>0 -5.05644798e+01</td>\n",
       "      <td>0 -5.35335121e+01</td>\n",
       "      <td>0  5.16573334e+01</td>\n",
       "      <td>0 -6.36245384e+01</td>\n",
       "      <td>0 -6.22858963e+01</td>\n",
       "      <td>0 -6.69708176e+01</td>\n",
       "      <td>0 -6.17421837e+01</td>\n",
       "      <td>0  4.24557686e+01</td>\n",
       "      <td>0 -3.49117241e+01</td>\n",
       "      <td>0 -3.27148094e+01</td>\n",
       "    </tr>\n",
       "    <tr>\n",
       "      <th>2</th>\n",
       "      <td>1 -1.49369106e-01</td>\n",
       "      <td>1  1.75313914e+00</td>\n",
       "      <td>1  1.99631679e+00</td>\n",
       "      <td>1  3.04945016e+00</td>\n",
       "      <td>1  2.88342237e+00</td>\n",
       "      <td>1 -1.33383894e+00</td>\n",
       "      <td>1  1.71477425e+00</td>\n",
       "      <td>1  1.66236949e+00</td>\n",
       "      <td>1  2.14069176e+00</td>\n",
       "      <td>1  1.45541644e+00</td>\n",
       "      <td>...</td>\n",
       "      <td>1 -2.43941898e+01</td>\n",
       "      <td>1 -2.50681992e+01</td>\n",
       "      <td>1  1.98644161e+01</td>\n",
       "      <td>1 -2.24622288e+01</td>\n",
       "      <td>1 -1.41626024e+01</td>\n",
       "      <td>1 -1.40747652e+01</td>\n",
       "      <td>1 -7.30249357e+00</td>\n",
       "      <td>1  1.30712271e+01</td>\n",
       "      <td>1 -8.87607956e+00</td>\n",
       "      <td>1 -1.96998653e+01</td>\n",
       "    </tr>\n",
       "    <tr>\n",
       "      <th>3</th>\n",
       "      <td>2  1.57715330e+01</td>\n",
       "      <td>2 -1.49585085e+01</td>\n",
       "      <td>2 -2.35901699e+01</td>\n",
       "      <td>2 -2.49880772e+01</td>\n",
       "      <td>2 -3.32448540e+01</td>\n",
       "      <td>2  2.98935757e+01</td>\n",
       "      <td>2 -3.22538071e+01</td>\n",
       "      <td>2 -2.51346836e+01</td>\n",
       "      <td>2 -1.51347399e+01</td>\n",
       "      <td>2 -5.07944202e+00</td>\n",
       "      <td>...</td>\n",
       "      <td>2 -2.13396549e+01</td>\n",
       "      <td>2 -1.86809387e+01</td>\n",
       "      <td>2  2.29194832e+01</td>\n",
       "      <td>2 -1.65655098e+01</td>\n",
       "      <td>2 -2.28135605e+01</td>\n",
       "      <td>2 -2.79594479e+01</td>\n",
       "      <td>2 -2.25943642e+01</td>\n",
       "      <td>2  3.03915577e+01</td>\n",
       "      <td>2 -2.37743130e+01</td>\n",
       "      <td>2 -2.82103367e+01</td>\n",
       "    </tr>\n",
       "    <tr>\n",
       "      <th>4</th>\n",
       "      <td>3  1.42361059e+01</td>\n",
       "      <td>3 -1.81383457e+01</td>\n",
       "      <td>3 -1.35441465e+01</td>\n",
       "      <td>3 -7.66792870e+00</td>\n",
       "      <td>3 -1.11441040e+01</td>\n",
       "      <td>3  1.45502367e+01</td>\n",
       "      <td>3 -1.61157742e+01</td>\n",
       "      <td>3 -1.30265388e+01</td>\n",
       "      <td>3 -2.11821022e+01</td>\n",
       "      <td>3 -3.24019890e+01</td>\n",
       "      <td>...</td>\n",
       "      <td>3 -1.31772375e+01</td>\n",
       "      <td>3 -7.91394949e+00</td>\n",
       "      <td>3  2.81915817e+01</td>\n",
       "      <td>3 -2.24558468e+01</td>\n",
       "      <td>3 -3.33276749e+01</td>\n",
       "      <td>3 -3.37345467e+01</td>\n",
       "      <td>3 -2.52948914e+01</td>\n",
       "      <td>3  2.34377728e+01</td>\n",
       "      <td>3 -1.42750978e+01</td>\n",
       "      <td>3 -7.85312891e+00</td>\n",
       "    </tr>\n",
       "  </tbody>\n",
       "</table>\n",
       "<p>5 rows × 51840 columns</p>\n",
       "</div>"
      ],
      "text/plain": [
       "                           0                             1      \\\n",
       "0   channel=1 shot=2372 label=-1   channel=9 shot=2372 label=1   \n",
       "1              0  1.35109469e-01             0  1.45933300e-01   \n",
       "2              1 -1.49369106e-01             1  1.75313914e+00   \n",
       "3              2  1.57715330e+01             2 -1.49585085e+01   \n",
       "4              3  1.42361059e+01             3 -1.81383457e+01   \n",
       "\n",
       "                           2                              3      \\\n",
       "0   channel=17 shot=2372 label=1   channel=25 shot=2372 label=1   \n",
       "1              0 -6.92833722e-01              0 -5.48514366e-01   \n",
       "2              1  1.99631679e+00              1  3.04945016e+00   \n",
       "3              2 -2.35901699e+01              2 -2.49880772e+01   \n",
       "4              3 -1.35441465e+01              3 -7.66792870e+00   \n",
       "\n",
       "                           4                               5      \\\n",
       "0   channel=33 shot=2372 label=1   channel=41 shot=2372 label=-1   \n",
       "1              0 -5.12570068e-02               0 -8.86980057e-01   \n",
       "2              1  2.88342237e+00               1 -1.33383894e+00   \n",
       "3              2 -3.32448540e+01               2  2.98935757e+01   \n",
       "4              3 -1.11441040e+01               3  1.45502367e+01   \n",
       "\n",
       "                           6                              7      \\\n",
       "0   channel=49 shot=2372 label=1   channel=57 shot=2372 label=1   \n",
       "1              0 -1.76063627e-01              0  2.22643271e-01   \n",
       "2              1  1.71477425e+00              1  1.66236949e+00   \n",
       "3              2 -3.22538071e+01              2 -2.51346836e+01   \n",
       "4              3 -1.61157742e+01              3 -1.30265388e+01   \n",
       "\n",
       "                           8                              9      ...  \\\n",
       "0   channel=65 shot=2372 label=1   channel=73 shot=2372 label=1  ...   \n",
       "1              0  1.17118979e+00              0  5.71239889e-01  ...   \n",
       "2              1  2.14069176e+00              1  1.45541644e+00  ...   \n",
       "3              2 -1.51347399e+01              2 -5.07944202e+00  ...   \n",
       "4              3 -2.11821022e+01              3 -3.24019890e+01  ...   \n",
       "\n",
       "                             51830                            51831  \\\n",
       "0   channel=2225 shot=6668 label=1   channel=2233 shot=6668 label=1   \n",
       "1                0 -5.05644798e+01                0 -5.35335121e+01   \n",
       "2                1 -2.43941898e+01                1 -2.50681992e+01   \n",
       "3                2 -2.13396549e+01                2 -1.86809387e+01   \n",
       "4                3 -1.31772375e+01                3 -7.91394949e+00   \n",
       "\n",
       "                              51832                            51833  \\\n",
       "0   channel=2241 shot=6668 label=-1   channel=2249 shot=6668 label=1   \n",
       "1                 0  5.16573334e+01                0 -6.36245384e+01   \n",
       "2                 1  1.98644161e+01                1 -2.24622288e+01   \n",
       "3                 2  2.29194832e+01                2 -1.65655098e+01   \n",
       "4                 3  2.81915817e+01                3 -2.24558468e+01   \n",
       "\n",
       "                             51834                            51835  \\\n",
       "0   channel=2257 shot=6668 label=1   channel=2265 shot=6668 label=1   \n",
       "1                0 -6.22858963e+01                0 -6.69708176e+01   \n",
       "2                1 -1.41626024e+01                1 -1.40747652e+01   \n",
       "3                2 -2.28135605e+01                2 -2.79594479e+01   \n",
       "4                3 -3.33276749e+01                3 -3.37345467e+01   \n",
       "\n",
       "                             51836                             51837  \\\n",
       "0   channel=2273 shot=6668 label=1   channel=2281 shot=6668 label=-1   \n",
       "1                0 -6.17421837e+01                 0  4.24557686e+01   \n",
       "2                1 -7.30249357e+00                 1  1.30712271e+01   \n",
       "3                2 -2.25943642e+01                 2  3.03915577e+01   \n",
       "4                3 -2.52948914e+01                 3  2.34377728e+01   \n",
       "\n",
       "                             51838                            51839  \n",
       "0   channel=2289 shot=6668 label=1   channel=2297 shot=6668 label=1  \n",
       "1                0 -3.49117241e+01                0 -3.27148094e+01  \n",
       "2                1 -8.87607956e+00                1 -1.96998653e+01  \n",
       "3                2 -2.37743130e+01                2 -2.82103367e+01  \n",
       "4                3 -1.42750978e+01                3 -7.85312891e+00  \n",
       "\n",
       "[5 rows x 51840 columns]"
      ]
     },
     "execution_count": 129,
     "metadata": {},
     "output_type": "execute_result"
    }
   ],
   "source": [
    "traces_df.head()"
   ]
  },
  {
   "cell_type": "code",
   "execution_count": 122,
   "metadata": {},
   "outputs": [],
   "source": [
    "def select_amplitude(x):\n",
    "    #function to select the amplitude value from each cell:\n",
    "    # '2 -2.35901699e+01'  ---> '-2.35901699e+01'\n",
    "    \n",
    "    ls = x.split()\n",
    "    return ls[len(ls)-1]\n",
    "\n",
    "def pickSign(str):      \n",
    "    # function to pick send 'gut=-1' ---> -1, 'gut=1' ---> 1\n",
    "    \n",
    "    if str[-2:-1]=='-':\n",
    "        return -1\n",
    "    else:\n",
    "        return 1"
   ]
  },
  {
   "cell_type": "code",
   "execution_count": 132,
   "metadata": {},
   "outputs": [],
   "source": [
    "#Select amplitude value from each cell. \n",
    "#Transpose so that the samples of the traces become attributes\n",
    "data_df = traces_df.applymap(select_amplitude).transpose()\n",
    "\n",
    "#Create integer target label\n",
    "data_df['Polarity']= data_df[0].apply(pickSign)\n",
    "data_df = data_df.drop(labels=[0],axis=1)\n",
    "data_df = data_df.astype('float')"
   ]
  },
  {
   "cell_type": "markdown",
   "metadata": {},
   "source": [
    "Now we have the data in the shape that we want. Every row corresponds to a data point, with the entries being the samples of the recorded sound waves. The last column contains the polarity label."
   ]
  },
  {
   "cell_type": "code",
   "execution_count": 130,
   "metadata": {},
   "outputs": [
    {
     "data": {
      "text/html": [
       "<div>\n",
       "<style scoped>\n",
       "    .dataframe tbody tr th:only-of-type {\n",
       "        vertical-align: middle;\n",
       "    }\n",
       "\n",
       "    .dataframe tbody tr th {\n",
       "        vertical-align: top;\n",
       "    }\n",
       "\n",
       "    .dataframe thead th {\n",
       "        text-align: right;\n",
       "    }\n",
       "</style>\n",
       "<table border=\"1\" class=\"dataframe\">\n",
       "  <thead>\n",
       "    <tr style=\"text-align: right;\">\n",
       "      <th></th>\n",
       "      <th>1</th>\n",
       "      <th>2</th>\n",
       "      <th>3</th>\n",
       "      <th>4</th>\n",
       "      <th>5</th>\n",
       "      <th>6</th>\n",
       "      <th>7</th>\n",
       "      <th>8</th>\n",
       "      <th>9</th>\n",
       "      <th>10</th>\n",
       "      <th>...</th>\n",
       "      <th>43</th>\n",
       "      <th>44</th>\n",
       "      <th>45</th>\n",
       "      <th>46</th>\n",
       "      <th>47</th>\n",
       "      <th>48</th>\n",
       "      <th>49</th>\n",
       "      <th>50</th>\n",
       "      <th>51</th>\n",
       "      <th>Polarity</th>\n",
       "    </tr>\n",
       "  </thead>\n",
       "  <tbody>\n",
       "    <tr>\n",
       "      <th>0</th>\n",
       "      <td>0.135109</td>\n",
       "      <td>-0.149369</td>\n",
       "      <td>15.771533</td>\n",
       "      <td>14.236106</td>\n",
       "      <td>-35.925736</td>\n",
       "      <td>26.909462</td>\n",
       "      <td>-15.012988</td>\n",
       "      <td>1.725460</td>\n",
       "      <td>7.095699</td>\n",
       "      <td>1.463356</td>\n",
       "      <td>...</td>\n",
       "      <td>3.210323</td>\n",
       "      <td>-6.106526</td>\n",
       "      <td>-6.634347</td>\n",
       "      <td>7.872420</td>\n",
       "      <td>6.820869</td>\n",
       "      <td>-4.395456</td>\n",
       "      <td>7.422894</td>\n",
       "      <td>17.544140</td>\n",
       "      <td>3.223560</td>\n",
       "      <td>-1.0</td>\n",
       "    </tr>\n",
       "    <tr>\n",
       "      <th>1</th>\n",
       "      <td>0.145933</td>\n",
       "      <td>1.753139</td>\n",
       "      <td>-14.958509</td>\n",
       "      <td>-18.138346</td>\n",
       "      <td>24.836264</td>\n",
       "      <td>-1.771277</td>\n",
       "      <td>6.107979</td>\n",
       "      <td>0.650433</td>\n",
       "      <td>12.429290</td>\n",
       "      <td>-20.766388</td>\n",
       "      <td>...</td>\n",
       "      <td>-6.895596</td>\n",
       "      <td>-2.262812</td>\n",
       "      <td>0.867932</td>\n",
       "      <td>6.583002</td>\n",
       "      <td>-2.523254</td>\n",
       "      <td>1.952146</td>\n",
       "      <td>-1.058738</td>\n",
       "      <td>0.687788</td>\n",
       "      <td>5.562509</td>\n",
       "      <td>1.0</td>\n",
       "    </tr>\n",
       "    <tr>\n",
       "      <th>2</th>\n",
       "      <td>-0.692834</td>\n",
       "      <td>1.996317</td>\n",
       "      <td>-23.590170</td>\n",
       "      <td>-13.544147</td>\n",
       "      <td>16.388670</td>\n",
       "      <td>-2.811234</td>\n",
       "      <td>0.292026</td>\n",
       "      <td>19.967159</td>\n",
       "      <td>18.820869</td>\n",
       "      <td>-14.062235</td>\n",
       "      <td>...</td>\n",
       "      <td>5.066412</td>\n",
       "      <td>-4.839576</td>\n",
       "      <td>-7.733660</td>\n",
       "      <td>3.416450</td>\n",
       "      <td>-2.488747</td>\n",
       "      <td>-0.623854</td>\n",
       "      <td>-5.784183</td>\n",
       "      <td>-1.940175</td>\n",
       "      <td>3.148644</td>\n",
       "      <td>1.0</td>\n",
       "    </tr>\n",
       "    <tr>\n",
       "      <th>3</th>\n",
       "      <td>-0.548514</td>\n",
       "      <td>3.049450</td>\n",
       "      <td>-24.988077</td>\n",
       "      <td>-7.667929</td>\n",
       "      <td>17.888163</td>\n",
       "      <td>-11.045793</td>\n",
       "      <td>9.761217</td>\n",
       "      <td>11.444410</td>\n",
       "      <td>4.486601</td>\n",
       "      <td>-8.396764</td>\n",
       "      <td>...</td>\n",
       "      <td>8.914586</td>\n",
       "      <td>4.633519</td>\n",
       "      <td>-0.462167</td>\n",
       "      <td>-4.352639</td>\n",
       "      <td>-6.807166</td>\n",
       "      <td>4.047869</td>\n",
       "      <td>5.908732</td>\n",
       "      <td>-9.539698</td>\n",
       "      <td>-5.924528</td>\n",
       "      <td>1.0</td>\n",
       "    </tr>\n",
       "    <tr>\n",
       "      <th>4</th>\n",
       "      <td>-0.051257</td>\n",
       "      <td>2.883422</td>\n",
       "      <td>-33.244854</td>\n",
       "      <td>-11.144104</td>\n",
       "      <td>16.647282</td>\n",
       "      <td>-15.133264</td>\n",
       "      <td>21.228491</td>\n",
       "      <td>4.141500</td>\n",
       "      <td>11.930402</td>\n",
       "      <td>-1.909803</td>\n",
       "      <td>...</td>\n",
       "      <td>5.179042</td>\n",
       "      <td>-3.362991</td>\n",
       "      <td>6.316719</td>\n",
       "      <td>8.003730</td>\n",
       "      <td>-8.228494</td>\n",
       "      <td>-1.989292</td>\n",
       "      <td>13.240460</td>\n",
       "      <td>7.562987</td>\n",
       "      <td>-2.874917</td>\n",
       "      <td>1.0</td>\n",
       "    </tr>\n",
       "  </tbody>\n",
       "</table>\n",
       "<p>5 rows × 52 columns</p>\n",
       "</div>"
      ],
      "text/plain": [
       "          1         2          3          4          5          6          7  \\\n",
       "0  0.135109 -0.149369  15.771533  14.236106 -35.925736  26.909462 -15.012988   \n",
       "1  0.145933  1.753139 -14.958509 -18.138346  24.836264  -1.771277   6.107979   \n",
       "2 -0.692834  1.996317 -23.590170 -13.544147  16.388670  -2.811234   0.292026   \n",
       "3 -0.548514  3.049450 -24.988077  -7.667929  17.888163 -11.045793   9.761217   \n",
       "4 -0.051257  2.883422 -33.244854 -11.144104  16.647282 -15.133264  21.228491   \n",
       "\n",
       "           8          9         10  ...        43        44        45  \\\n",
       "0   1.725460   7.095699   1.463356  ...  3.210323 -6.106526 -6.634347   \n",
       "1   0.650433  12.429290 -20.766388  ... -6.895596 -2.262812  0.867932   \n",
       "2  19.967159  18.820869 -14.062235  ...  5.066412 -4.839576 -7.733660   \n",
       "3  11.444410   4.486601  -8.396764  ...  8.914586  4.633519 -0.462167   \n",
       "4   4.141500  11.930402  -1.909803  ...  5.179042 -3.362991  6.316719   \n",
       "\n",
       "         46        47        48         49         50        51  Polarity  \n",
       "0  7.872420  6.820869 -4.395456   7.422894  17.544140  3.223560      -1.0  \n",
       "1  6.583002 -2.523254  1.952146  -1.058738   0.687788  5.562509       1.0  \n",
       "2  3.416450 -2.488747 -0.623854  -5.784183  -1.940175  3.148644       1.0  \n",
       "3 -4.352639 -6.807166  4.047869   5.908732  -9.539698 -5.924528       1.0  \n",
       "4  8.003730 -8.228494 -1.989292  13.240460   7.562987 -2.874917       1.0  \n",
       "\n",
       "[5 rows x 52 columns]"
      ]
     },
     "execution_count": 130,
     "metadata": {},
     "output_type": "execute_result"
    }
   ],
   "source": [
    "data_df.head()"
   ]
  },
  {
   "cell_type": "markdown",
   "metadata": {},
   "source": [
    "We have a total of 51840 observations, each characterized by 51 attributes:"
   ]
  },
  {
   "cell_type": "code",
   "execution_count": 133,
   "metadata": {},
   "outputs": [
    {
     "data": {
      "text/plain": [
       "(51840, 52)"
      ]
     },
     "execution_count": 133,
     "metadata": {},
     "output_type": "execute_result"
    }
   ],
   "source": [
    "data_df.shape"
   ]
  },
  {
   "cell_type": "markdown",
   "metadata": {},
   "source": [
    "Below we plot a generic observation:"
   ]
  },
  {
   "cell_type": "code",
   "execution_count": 113,
   "metadata": {
    "scrolled": true
   },
   "outputs": [
    {
     "data": {
      "image/png": "[encoded data removed]",
      "text/plain": [
       "<Figure size 216x432 with 1 Axes>"
      ]
     },
     "metadata": {
      "needs_background": "light"
     },
     "output_type": "display_data"
    }
   ],
   "source": [
    "y=np.array(range(len(data_df.loc[0])))\n",
    "y=np.flip(y)\n",
    "x=data_df.loc[0]\n",
    "\n",
    "plt.figure(figsize=(3,6))\n",
    "plt.plot(x,y,c='k')\n",
    "plt.fill_betweenx(y,x,0,where=x>0,interpolate=True, color='k')\n",
    "plt.title('A generic observation is a seismic trace')\n",
    "plt.show()"
   ]
  },
  {
   "cell_type": "markdown",
   "metadata": {},
   "source": [
    "## Training/testing split. Resampling the data\n",
    "\n",
    "We note that the data is imbalanced. So we we address this issue by resampling the number of negative-polarity traces by upsampling this category.\n",
    "\n",
    "Note: With resampling done we can use `accuracy` as our metric.\n"
   ]
  },
  {
   "cell_type": "code",
   "execution_count": 10,
   "metadata": {},
   "outputs": [
    {
     "name": "stdout",
     "output_type": "stream",
     "text": [
      "Number of seismic traces with positive polarity = 41400\n",
      "Number of seismic traces with negative polarity = 10440\n"
     ]
    }
   ],
   "source": [
    "print('Number of seismic traces with positive polarity =', len(data_df[data_df.Polarity == 1]))\n",
    "print('Number of seismic traces with negative polarity =', len(data_df[data_df.Polarity == -1]))"
   ]
  },
  {
   "cell_type": "markdown",
   "metadata": {},
   "source": [
    "### Training/testing split"
   ]
  },
  {
   "cell_type": "code",
   "execution_count": 10,
   "metadata": {},
   "outputs": [],
   "source": [
    "#train/test split\n",
    "X = data_df.drop(labels='Polarity',axis=1)\n",
    "y = data_df['Polarity']\n",
    "\n",
    "X_train,X_test,y_train,y_test = train_test_split(X,y,random_state=0)"
   ]
  },
  {
   "cell_type": "markdown",
   "metadata": {},
   "source": [
    "#### Question: Should we normalize the attributes?\n",
    "\n",
    "Generally I would say yes, normalize the data! Normalization in this case means standardization, i.e., transform the attributes such that for every predictor we have mean = 0 and variance normalized to unity.\n",
    "\n",
    "For this particular problem, I say that we should not perform standardization though. The reason is that all the attributes belong to the same type of data already. If we had other types of attributes such as dip angles, frequency information, spatial coordinates, or hardware attributes then we would need to put all the attributes on the same footing. That's not the case here.\n",
    "\n",
    "To check what's the best approach, we will have two parallel tracks. One where we model using the data as is, after the training-testing split. The second approach will be to standardize the data. At the end we can compare both approaches."
   ]
  },
  {
   "cell_type": "code",
   "execution_count": 61,
   "metadata": {},
   "outputs": [],
   "source": [
    "# Standardizing the attributes\n",
    "\n",
    "def standardize(training_set, testing_set):\n",
    "    #function outputs the same dataframes but features are standardized to 0 mean and unit variance\n",
    "    \n",
    "    from sklearn.preprocessing import StandardScaler\n",
    "    \n",
    "    scaler = StandardScaler().fit(training_set)\n",
    "    training_scaled = pd.DataFrame(scaler.transform(training_set),index=training_set.index)\n",
    "    testing_scaled = pd.DataFrame(scaler.transform(testing_set),index=testing_set.index)\n",
    "    \n",
    "    return training_scaled, testing_scaled"
   ]
  },
  {
   "cell_type": "markdown",
   "metadata": {},
   "source": [
    "The datasets `X_train_scaled` and `X_test_scaled` created below will be the data used for the standardized modeling:"
   ]
  },
  {
   "cell_type": "code",
   "execution_count": 68,
   "metadata": {},
   "outputs": [],
   "source": [
    "# Create copy of data with standardized attributes:\n",
    "X_train_scaled, X_test_scaled = standardize(X_train,X_test)"
   ]
  },
  {
   "cell_type": "markdown",
   "metadata": {},
   "source": [
    "###  Resampling\n",
    "\n",
    "Now that we have already split the data into training and testing sets, we can think about resampling. The reason we wait until after the split is because we will be upsampling the minority class. If this step was done on the complete dataset, then we would be creating data leakage as copies of elements of the minority class would be sent to the training and testing sets. \n",
    "\n",
    "By the same argument, we will not upsample the full training set either just yet. Instead, our approach is to upsample during the cross-validation procedure. If done beforehand, we would have copies of the minority class going into the training folds and the validation folds. Therefore we will apply the upsampling only to the training folds during cross-validation.\n",
    "\n",
    "There are two basic ways to do upsampling: performing random oversampling (ROS) and creating synthetic elements of the minority class (for example via `imbalanced-learn` SMOTE algorithm). In this notebook we use the simpler ROS approach."
   ]
  },
  {
   "cell_type": "code",
   "execution_count": 30,
   "metadata": {},
   "outputs": [],
   "source": [
    "from sklearn.utils import resample\n",
    "\n",
    "def binary_upsample(attributes, target, resampling_value, n_ratio, verbose=False):\n",
    "    #function to resample data using Random Oversampling \n",
    "    #attributes = df with attributes. target = series with target values. \n",
    "    #n_ratio = desired majority/minority class ratio after upsampling\n",
    "    #resampling_value = target value of minority class\n",
    "    #'binary' because it works with two classes\n",
    "    \n",
    "    \n",
    "    all_data = attributes.copy()\n",
    "    all_data['target'] = target\n",
    "    \n",
    "    if verbose:\n",
    "        print('\\n~~~~~~~~~~ Before resampling training data:\\n ')\n",
    "        print('Total number of observations', len(all_data))\n",
    "        print('Imbalance ratio = {length:.2f}'.format(length =len(all_data[all_data.target != resampling_value])/len(all_data[all_data.target == resampling_value])))\n",
    "    \n",
    "    #create new samples\n",
    "    n_samples = int(len(all_data[all_data.target != resampling_value]) / n_ratio)\n",
    "    new_samples = resample(all_data[all_data.target == resampling_value],n_samples = n_samples, random_state=0)\n",
    "    resampled_data = pd.concat([all_data[all_data.target != resampling_value],new_samples])\n",
    "    \n",
    "    #Peel off the labels again\n",
    "    attributes_resampled = resampled_data.drop(labels='target',axis=1)\n",
    "    target_resampled = resampled_data['target']\n",
    "    \n",
    "    if verbose:\n",
    "        print('\\n~~~~~~~~~~ After upsampling training data:\\n ')\n",
    "        print('Total number of observations =', len(resampled_data))\n",
    "        print('Imbalance ratio = {frac:.2f}'.format(frac= len(resampled_data[resampled_data.target != resampling_value])/len(resampled_data[resampled_data.target == resampling_value])) )\n",
    "   \n",
    "\n",
    "    return attributes_resampled, target_resampled"
   ]
  },
  {
   "cell_type": "markdown",
   "metadata": {},
   "source": [
    "# Building the nearest-neighbors model\n",
    "We proceed to build the model with balanced training data. We will compare modeling using the standardized vs. non-standardized datasets.\n",
    "\n",
    "We first need to find the optimal k, the number of neighbors, via cross validation. The function `kNN_upsample_CV` does cross-validation while upsampling training sets for each fold at once. Since this is a classification problem with balanced training data, we test for accuracy."
   ]
  },
  {
   "cell_type": "code",
   "execution_count": 29,
   "metadata": {},
   "outputs": [],
   "source": [
    "from sklearn.model_selection import KFold\n",
    "\n",
    "def kNN_upsample_CV(attributes, target, cv_partitions, resampling_value, n_ratio):\n",
    "    # function to do cross-validation on kNN while upsampling minority class\n",
    "    # calls binary_upsample on the training set and not on the validation set\n",
    "    # attributes = dataframe of attributes. target = target series\n",
    "    # cv_partitions = # of folds\n",
    "    # resampling_value = target value of minority class. \n",
    "    # n_ratio = desired resampled imbalance ratio. \n",
    "    \n",
    "    \n",
    "    kfolds = KFold(n_splits=cv_partitions, shuffle=False)\n",
    "    \n",
    "    mean_scores = []\n",
    "    \n",
    "    for k in range(1,14,2): # k in kNN (use 1,14,2)\n",
    "        \n",
    "        scores_fixed_k = []\n",
    "        \n",
    "        for train_index,test_index in kfolds.split(attributes):  # kfolds for CV\n",
    "            \n",
    "            X_train_resampled, y_train_resampled = binary_upsample(attributes.iloc[train_index], \n",
    "                                                                   target.iloc[train_index], resampling_value, n_ratio)\n",
    "            \n",
    "            knn = KNeighborsClassifier(n_neighbors=k,weights='uniform')\n",
    "            knn.fit(X_train_resampled, y_train_resampled)\n",
    "            scores_fixed_k.append(knn.score(attributes.iloc[test_index],target.iloc[test_index]))\n",
    "            \n",
    "        mean_scores.append(np.mean(scores_fixed_k))\n",
    "            \n",
    "    \n",
    "    #misclassification error and optimal k\n",
    "    msc = [1 - x for x in mean_scores]\n",
    "    optimal_msc = (list(range(1,14,2)))[msc.index(min(msc))]\n",
    "    print('Minimum misclassification error at k =', optimal_msc)\n",
    "    \n",
    "    \n",
    "    return mean_scores"
   ]
  },
  {
   "cell_type": "markdown",
   "metadata": {},
   "source": [
    "Get cross-validation scores for the non-standardized training dataset:"
   ]
  },
  {
   "cell_type": "code",
   "execution_count": 60,
   "metadata": {},
   "outputs": [
    {
     "name": "stdout",
     "output_type": "stream",
     "text": [
      "Minimum misclassification error at k = 1\n"
     ]
    }
   ],
   "source": [
    "cv_scores = kNN_upsample_CV(X_train,y_train,cv_partitions=3,resampling_value=-1,n_ratio=1)"
   ]
  },
  {
   "cell_type": "markdown",
   "metadata": {},
   "source": [
    "Get cross-validation scores for the standardized training dataset:"
   ]
  },
  {
   "cell_type": "code",
   "execution_count": 64,
   "metadata": {},
   "outputs": [
    {
     "name": "stdout",
     "output_type": "stream",
     "text": [
      "Minimum misclassification error at k = 1\n"
     ]
    }
   ],
   "source": [
    "cv_scores_s = kNN_upsample_CV(X_train_scaled,y_train, cv_partitions=3,resampling_value=-1,n_ratio=1)"
   ]
  },
  {
   "cell_type": "markdown",
   "metadata": {},
   "source": [
    "We observe that for both the non-standardized and the standardized models we obtain `k = 1` as the optimal value.\n",
    "\n",
    "\n",
    "### Understading k = 1\n",
    "Note: the value of k in kNN parametrizes the space of kNN models. Geometrically, it is a measure of the irregularity of the decision boundary. A smaller k means that the decision is being made more locally. Small values of k sometimes indicate we may have overfitting. Yet, in the problem at hand `k = 1` makes sense as we explain below.\n",
    "\n",
    "If two receivers in the field that are close together, in the actual xyz-coordinates, then they will be probing very similar geology for any fixed source. This means that the traces they generated will be very similar. Another way to say it is that the resulting traces will be close together in the trace or attribute space (which is a 51-dimensional vector space in this problem). Now, if we randomly flip one of the receivers then the resulting trace will be reflected across the origin of the attribute space.\n",
    "\n",
    "The above means that to find out the polarity of any one given trace, we only need ask the nearest neighbor. \n",
    "\n",
    "### We can finally answer the posited question: standardize or not standardize?\n",
    "\n",
    "Below we plot the resulting misclassification errors `(1-accuracy)` coming out of cross-validation for each case. Indeed, we see that for all values of k, the non-standardized model has a lower error than the standardized case as we had predicted!\n"
   ]
  },
  {
   "cell_type": "code",
   "execution_count": 65,
   "metadata": {},
   "outputs": [
    {
     "data": {
      "image/png": "[encoded data removed]",
      "text/plain": [
       "<Figure size 432x432 with 1 Axes>"
      ]
     },
     "metadata": {
      "needs_background": "light"
     },
     "output_type": "display_data"
    }
   ],
   "source": [
    "plt.figure(figsize=(6,6))\n",
    "plt.plot((list(range(1,14,2))),[1-x for x in cv_scores],'s')\n",
    "plt.plot((list(range(1,14,2))),[1-x for x in cv_scores_s],'s')\n",
    "plt.xlabel('k')\n",
    "plt.ylabel('misclassification error')\n",
    "plt.title('kNN model scan')\n",
    "plt.legend(['non-standardized data', 'standardized data'])\n",
    "plt.show()"
   ]
  },
  {
   "cell_type": "markdown",
   "metadata": {},
   "source": [
    "## Evaluate the classifiers on the test data.\n",
    "\n",
    "We use the full training data to build the model. The full training data gets resampled first."
   ]
  },
  {
   "cell_type": "code",
   "execution_count": 15,
   "metadata": {},
   "outputs": [
    {
     "name": "stdout",
     "output_type": "stream",
     "text": [
      "\n",
      "~~~~~~~~~~ Before resampling training data:\n",
      " \n",
      "Total number of observations 38880\n",
      "Imbalance ratio = 3.97\n",
      "\n",
      "~~~~~~~~~~ After upsampling training data:\n",
      " \n",
      "Total number of observations = 62122\n",
      "Imbalance ratio = 1.00\n"
     ]
    }
   ],
   "source": [
    "#upsampling non-standardized version\n",
    "X_train_r, y_train_r = binary_upsample(X_train, y_train, resampling_value=-1, n_ratio = 1, verbose=True)"
   ]
  },
  {
   "cell_type": "code",
   "execution_count": 16,
   "metadata": {},
   "outputs": [
    {
     "ename": "NameError",
     "evalue": "name 'X_train_scaled' is not defined",
     "output_type": "error",
     "traceback": [
      "\u001b[0;31m---------------------------------------------------------------------------\u001b[0m",
      "\u001b[0;31mNameError\u001b[0m                                 Traceback (most recent call last)",
      "\u001b[0;32m<ipython-input-16-0350a20e4a08>\u001b[0m in \u001b[0;36m<module>\u001b[0;34m\u001b[0m\n\u001b[1;32m      1\u001b[0m \u001b[0;31m#upsampling standardized version\u001b[0m\u001b[0;34m\u001b[0m\u001b[0;34m\u001b[0m\u001b[0;34m\u001b[0m\u001b[0m\n\u001b[0;32m----> 2\u001b[0;31m \u001b[0mX_train_scaled_r\u001b[0m\u001b[0;34m,\u001b[0m \u001b[0my_train_r\u001b[0m \u001b[0;34m=\u001b[0m \u001b[0mbinary_upsample\u001b[0m\u001b[0;34m(\u001b[0m\u001b[0mX_train_scaled\u001b[0m\u001b[0;34m,\u001b[0m \u001b[0my_train\u001b[0m\u001b[0;34m,\u001b[0m \u001b[0mresampling_value\u001b[0m\u001b[0;34m=\u001b[0m\u001b[0;34m-\u001b[0m\u001b[0;36m1\u001b[0m\u001b[0;34m,\u001b[0m \u001b[0mn_ratio\u001b[0m \u001b[0;34m=\u001b[0m \u001b[0;36m1\u001b[0m\u001b[0;34m,\u001b[0m \u001b[0mverbose\u001b[0m\u001b[0;34m=\u001b[0m\u001b[0;32mTrue\u001b[0m\u001b[0;34m)\u001b[0m\u001b[0;34m\u001b[0m\u001b[0;34m\u001b[0m\u001b[0m\n\u001b[0m",
      "\u001b[0;31mNameError\u001b[0m: name 'X_train_scaled' is not defined"
     ]
    }
   ],
   "source": [
    "#upsampling standardized version\n",
    "X_train_scaled_r, y_train_r = binary_upsample(X_train_scaled, y_train, resampling_value=-1, n_ratio = 1, verbose=True)"
   ]
  },
  {
   "cell_type": "code",
   "execution_count": 17,
   "metadata": {},
   "outputs": [
    {
     "name": "stdout",
     "output_type": "stream",
     "text": [
      "\n",
      " The non-standardized kNN-model has accuracy = 0.95\n"
     ]
    }
   ],
   "source": [
    "#non-standardized model\n",
    "knn1 = KNeighborsClassifier(n_neighbors=1, weights='uniform').fit(X_train_r,y_train_r)\n",
    "print('\\n The non-standardized kNN-model has accuracy = {score:.2f}'.format(score = knn1.score(X_test,y_test)))"
   ]
  },
  {
   "cell_type": "code",
   "execution_count": 73,
   "metadata": {},
   "outputs": [
    {
     "name": "stdout",
     "output_type": "stream",
     "text": [
      "The standardized kNN-model has accuracy = 0.88\n"
     ]
    }
   ],
   "source": [
    "#standardized model\n",
    "knn1_scaled = KNeighborsClassifier(n_neighbors=1, weights='uniform').fit(X_train_scaled_r,y_train_r)\n",
    "print('The standardized kNN-model has accuracy = {score:.2f}'.format(score = knn1_scaled.score(X_test_scaled,y_test)))"
   ]
  },
  {
   "cell_type": "markdown",
   "metadata": {},
   "source": [
    "#### Baseline of dummy classifier\n",
    "\n",
    "Sanity check: How do we compare with against dummy classifiers? \n"
   ]
  },
  {
   "cell_type": "code",
   "execution_count": 23,
   "metadata": {},
   "outputs": [
    {
     "name": "stdout",
     "output_type": "stream",
     "text": [
      "The most-frequent classifier has accuracy = 0.80\n"
     ]
    }
   ],
   "source": [
    "from sklearn.dummy import DummyClassifier\n",
    "\n",
    "dummy_frequent = DummyClassifier(strategy='most_frequent').fit(X_train_r,y_train_r)\n",
    "\n",
    "print('The most-frequent classifier has accuracy = {score:.2f}'.format(score = dummy_frequent.score(X_test,y_test)))"
   ]
  },
  {
   "cell_type": "markdown",
   "metadata": {},
   "source": [
    "### Other metrics\n",
    "\n",
    "- In our case, the recall score is the most important one since we care about minimizing _false negatives_ which in our case means minimizing the number of polarity=-1 being labeled as polarity=+1.\n",
    "\n",
    "- Precision takes a back seat here because erroneously labeling good traces as polarity=-1 only means a few more receivers to QC.\n",
    "\n",
    "\n",
    "We will see that the non-standardized model clearly beats the standardized model when it comes to recall score (true-positive rate).\n",
    "\n",
    "The function `otherScores` will print out the recall score for a given model and test sets, as well as the confusion matrix for the evaluation. Note: in the convention we use below is as follows. For the confusion matrix C:\n",
    "- C[0,0] = true positive class: negative polarity traces classified as such.\n",
    "- C[1,1] = true negative class: positive polarity traces classifies as such.\n",
    "- C[0,1] = false negative class: negative polarity traces classifies as positive polarity."
   ]
  },
  {
   "cell_type": "code",
   "execution_count": 76,
   "metadata": {},
   "outputs": [],
   "source": [
    "from sklearn.metrics import confusion_matrix, precision_score, recall_score, accuracy_score\n",
    "    \n",
    "def otherScores(model,X_test,y_test):\n",
    "    #function (1) plots confusion matrix for given model and data\n",
    "    #         (2) prints recall score\n",
    "    \n",
    "    from sklearn.metrics import plot_confusion_matrix\n",
    "    fig = plot_confusion_matrix(model,X_test,y_test,values_format='d')\n",
    "    fig.ax_.set_title('Confusion matrix')\n",
    "    plt.show()\n",
    "    \n",
    "    print('\\n Recall score = {score:.2f}'.format(score = recall_score(y_test,model.predict(X_test),pos_label=-1)))\n",
    "    print('~~~~~~~~~~~~~~~~~~~~~~~~~~~~~~~~~~~\\n\\n')"
   ]
  },
  {
   "cell_type": "code",
   "execution_count": 57,
   "metadata": {},
   "outputs": [
    {
     "name": "stdout",
     "output_type": "stream",
     "text": [
      "Non-standardized case: ~~~~~~~~~~~~\n",
      "\n"
     ]
    },
    {
     "data": {
      "image/png": "[encoded data removed]",
      "text/plain": [
       "<Figure size 432x288 with 2 Axes>"
      ]
     },
     "metadata": {
      "needs_background": "light"
     },
     "output_type": "display_data"
    },
    {
     "name": "stdout",
     "output_type": "stream",
     "text": [
      "\n",
      " Recall score = 0.77\n",
      "~~~~~~~~~~~~~~~~~~~~~~~~~~~~~~~~~~~\n",
      "\n",
      "\n",
      "Standardized case: ~~~~~~~~~~~~\n",
      "\n"
     ]
    },
    {
     "data": {
      "image/png": "[encoded data removed]",
      "text/plain": [
       "<Figure size 432x288 with 2 Axes>"
      ]
     },
     "metadata": {
      "needs_background": "light"
     },
     "output_type": "display_data"
    },
    {
     "name": "stdout",
     "output_type": "stream",
     "text": [
      "\n",
      " Recall score = 0.51\n",
      "~~~~~~~~~~~~~~~~~~~~~~~~~~~~~~~~~~~\n",
      "\n",
      "\n"
     ]
    }
   ],
   "source": [
    "print('Non-standardized case: ~~~~~~~~~~~~\\n')\n",
    "otherScores(knn1,X_test,y_test)\n",
    "\n",
    "print('Standardized case: ~~~~~~~~~~~~\\n')\n",
    "otherScores(knn1_scaled,X_test_scaled,y_test)"
   ]
  },
  {
   "cell_type": "markdown",
   "metadata": {},
   "source": [
    "# Bagging ensemble with k = 1 kNN base estimator\n",
    "\n",
    "Now that we have settled on the 1NN model without standardization of the features, we can use an ensemble of this base estimator to reduce the noise and variance. For this purpose we use the Bagging algorithm which consists of training the base estimator on random subsets of the data where the subsets are created by pulling samples with raplacement."
   ]
  },
  {
   "cell_type": "code",
   "execution_count": 20,
   "metadata": {},
   "outputs": [],
   "source": [
    "from sklearn.ensemble import BaggingClassifier\n",
    "\n",
    "selected_kNN = KNeighborsClassifier(n_neighbors=1, weights='uniform')"
   ]
  },
  {
   "cell_type": "markdown",
   "metadata": {},
   "source": [
    "We first look at a baseline Bagging classifier. Even using hand-picked parameters we see that we beat the recall score of the base estimator."
   ]
  },
  {
   "cell_type": "code",
   "execution_count": 22,
   "metadata": {},
   "outputs": [],
   "source": [
    "bag_kNN_baseline = BaggingClassifier(selected_kNN, n_estimators=10, max_samples=.5, random_state=0).fit(X_train_r, y_train_r)"
   ]
  },
  {
   "cell_type": "code",
   "execution_count": 23,
   "metadata": {},
   "outputs": [
    {
     "name": "stdout",
     "output_type": "stream",
     "text": [
      "\n",
      " The bag_kNN_baseline model has accuracy = 0.94\n"
     ]
    }
   ],
   "source": [
    "print('\\n The bag_kNN_baseline model has accuracy = {score:.2f}'.format(score = bag_kNN_baseline.score(X_test,y_test)))"
   ]
  },
  {
   "cell_type": "code",
   "execution_count": 25,
   "metadata": {},
   "outputs": [
    {
     "name": "stdout",
     "output_type": "stream",
     "text": [
      "bag_kNN_baseline case: ~~~~~~~~~~~~\n",
      "\n"
     ]
    },
    {
     "data": {
      "image/png": "[encoded data removed]",
      "text/plain": [
       "<Figure size 432x288 with 2 Axes>"
      ]
     },
     "metadata": {
      "needs_background": "light"
     },
     "output_type": "display_data"
    },
    {
     "name": "stdout",
     "output_type": "stream",
     "text": [
      "\n",
      " Recall score = 0.82\n",
      "~~~~~~~~~~~~~~~~~~~~~~~~~~~~~~~~~~~\n",
      "\n",
      "\n"
     ]
    }
   ],
   "source": [
    "print('bag_kNN_baseline case: ~~~~~~~~~~~~\\n')\n",
    "otherScores(bag_kNN_baseline,X_test,y_test)"
   ]
  },
  {
   "cell_type": "markdown",
   "metadata": {},
   "source": [
    "### Cross-validation for the Bagging classifier \n",
    "\n",
    "We proceed to optimize the Bagging classifier by doing cross-validation to search for the best number of samples and copies of the base estimator to employ."
   ]
  },
  {
   "cell_type": "code",
   "execution_count": 102,
   "metadata": {},
   "outputs": [],
   "source": [
    "from sklearn.model_selection import ParameterGrid\n",
    "\n",
    "def bagging_kNN_upsample_CV(attributes, target, cv_partitions, resampling_value, n_ratio, param_grid):\n",
    "    # function to do cross-validation on kNN while upsampling minority class\n",
    "    # calls binary_upsample on the training set and not on the validation set\n",
    "    # attributes = dataframe of attributes. target = target series\n",
    "    # cv_partitions = # of folds\n",
    "    # resampling_value = target value of minority class. \n",
    "    # n_ratio = desired resampled imbalance ratio. \n",
    "    \n",
    "    \n",
    "    param_space = ParameterGrid(param_grid)\n",
    "    \n",
    "    kfolds = KFold(n_splits=cv_partitions, shuffle=False)\n",
    "    \n",
    "   \n",
    "    scores = {}\n",
    "    for parameters in param_space:\n",
    "        \n",
    "        accuracy_fixed_params= []\n",
    "        recall_fixed_params = []\n",
    "        \n",
    "        for train_index,test_index in kfolds.split(attributes):  # kfolds for CV\n",
    "            X_train_resampled, y_train_resampled = binary_upsample(attributes.iloc[train_index], \n",
    "                                                                   target.iloc[train_index], resampling_value, n_ratio)\n",
    "            \n",
    "            bag_clsf = BaggingClassifier(selected_kNN, **parameters).fit(X_train_resampled, y_train_resampled)\n",
    "            y_pred = bag_clsf.predict(attributes.iloc[test_index])\n",
    "            \n",
    "            accuracy_fixed_params.append(accuracy_score(target.iloc[test_index], y_pred))\n",
    "            recall_fixed_params.append(recall_score(target.iloc[test_index], y_pred, pos_label=-1))\n",
    "            \n",
    "\n",
    "        \n",
    "        scores[str(parameters)] = [np.mean(accuracy_fixed_params), np.mean(recall_fixed_params)] \n",
    "        \n",
    "        \n",
    "    return scores"
   ]
  },
  {
   "cell_type": "code",
   "execution_count": 105,
   "metadata": {},
   "outputs": [],
   "source": [
    "param_grid_1 = {'n_estimators' : [5, 10, 15], 'max_samples': [.25, .5, .75,]}\n",
    "\n",
    "results1 = bagging_kNN_upsample_CV(X_train, y_train, cv_partitions=3, resampling_value=-1, n_ratio=1, param_grid=param_grid_1)"
   ]
  },
  {
   "cell_type": "code",
   "execution_count": 106,
   "metadata": {},
   "outputs": [
    {
     "data": {
      "text/plain": [
       "{\"{'max_samples': 0.25, 'n_estimators': 5}\": [0.8979166666666666,\n",
       "  0.7809123930335385],\n",
       " \"{'max_samples': 0.25, 'n_estimators': 10}\": [0.8997942386831276,\n",
       "  0.8100924966966608],\n",
       " \"{'max_samples': 0.25, 'n_estimators': 15}\": [0.9131687242798354,\n",
       "  0.7942400758482616],\n",
       " \"{'max_samples': 0.5, 'n_estimators': 5}\": [0.9218106995884773,\n",
       "  0.7632776528403157],\n",
       " \"{'max_samples': 0.5, 'n_estimators': 10}\": [0.9219393004115227,\n",
       "  0.7800678451303371],\n",
       " \"{'max_samples': 0.5, 'n_estimators': 15}\": [0.926440329218107,\n",
       "  0.7659636152461301],\n",
       " \"{'max_samples': 0.75, 'n_estimators': 5}\": [0.9276491769547325,\n",
       "  0.7462384741222395],\n",
       " \"{'max_samples': 0.75, 'n_estimators': 10}\": [0.9288580246913579,\n",
       "  0.7572623359741252],\n",
       " \"{'max_samples': 0.75, 'n_estimators': 15}\": [0.9305041152263375,\n",
       "  0.7421858586280424]}"
      ]
     },
     "execution_count": 106,
     "metadata": {},
     "output_type": "execute_result"
    }
   ],
   "source": [
    "results1"
   ]
  },
  {
   "cell_type": "code",
   "execution_count": 109,
   "metadata": {},
   "outputs": [
    {
     "name": "stdout",
     "output_type": "stream",
     "text": [
      "\n",
      " The bag_kNN model with {max_samples: 0.25, n_estimators: 10} has accuracy = 0.92\n"
     ]
    }
   ],
   "source": [
    "bag_kNN_2 = BaggingClassifier(selected_kNN, n_estimators=10, max_samples=.25, random_state=0).fit(X_train_r, y_train_r)\n",
    "print('\\n The bag_kNN model with {max_samples: 0.25, n_estimators: 10} has accuracy =', '{score:.2f}'.format(score = bag_kNN_2.score(X_test,y_test)))"
   ]
  },
  {
   "cell_type": "code",
   "execution_count": 110,
   "metadata": {},
   "outputs": [
    {
     "name": "stdout",
     "output_type": "stream",
     "text": [
      "bag_kNN {max_samples: 0.25, n_estimators: 10} case: ~~~~~~~~~~~~\n",
      "\n"
     ]
    },
    {
     "data": {
      "image/png": "[encoded data removed]",
      "text/plain": [
       "<Figure size 432x288 with 2 Axes>"
      ]
     },
     "metadata": {
      "needs_background": "light"
     },
     "output_type": "display_data"
    },
    {
     "name": "stdout",
     "output_type": "stream",
     "text": [
      "\n",
      " Recall score = 0.84\n",
      "~~~~~~~~~~~~~~~~~~~~~~~~~~~~~~~~~~~\n",
      "\n",
      "\n"
     ]
    }
   ],
   "source": [
    "print('bag_kNN {max_samples: 0.25, n_estimators: 10} case: ~~~~~~~~~~~~\\n')\n",
    "otherScores(bag_kNN_2, X_test, y_test)"
   ]
  },
  {
   "cell_type": "markdown",
   "metadata": {},
   "source": [
    "## Conclusions\n",
    "\n",
    "kNN is a good approach to tackling the question of predicting flipped polarity traces. Furthermore, it performs quite well without any information about the hardware set up in the field, that is, we have not used coordinates or receivers identifying information in our modeling.\n",
    "\n",
    "How to improve the model: \n",
    "- include more amplitude samples to get lower amplitude noise,\n",
    "- change upsampling technique from random oversampling to SMOTE. That is, don't make carbon copies of the minority class elements, create synthetic elemenents instead. I generally see better results with SMOTE.\n",
    "\n",
    "Furthermore, building the Bagging classifier on top of the kNN estimator gives a much better model with a significant improvement in the recall score."
   ]
  },
  {
   "cell_type": "code",
   "execution_count": null,
   "metadata": {},
   "outputs": [],
   "source": []
  }
 ],
 "metadata": {
  "kernelspec": {
   "display_name": "Python 3",
   "language": "python",
   "name": "python3"
  },
  "language_info": {
   "codemirror_mode": {
    "name": "ipython",
    "version": 3
   },
   "file_extension": ".py",
   "mimetype": "text/x-python",
   "name": "python",
   "nbconvert_exporter": "python",
   "pygments_lexer": "ipython3",
   "version": "3.7.3"
  }
 },
 "nbformat": 4,
 "nbformat_minor": 2
}
